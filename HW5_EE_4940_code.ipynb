{
 "cells": [
  {
   "cell_type": "code",
   "execution_count": 1,
   "id": "caa66c90",
   "metadata": {},
   "outputs": [],
   "source": [
    "#Import libraries\n",
    "import sympy as sp\n",
    "import numpy as np\n",
    "from decimal import *\n",
    "np.set_printoptions(legacy='1.25')"
   ]
  },
  {
   "cell_type": "markdown",
   "id": "965caf32",
   "metadata": {},
   "source": [
    "## Problem 1\n",
    "\n",
    "You can ignore the work in here, this is just for my own personal understanding."
   ]
  },
  {
   "cell_type": "code",
   "execution_count": null,
   "id": "589db92b",
   "metadata": {},
   "outputs": [
    {
     "name": "stdout",
     "output_type": "stream",
     "text": [
      "x = 0 | 1 | 1\n",
      "x = 1 | 5 | 6\n",
      "x = 2 | 6 | 17\n",
      "x = 3 | 11 | 7\n",
      "x = 4 | 17 | 4\n",
      "x = 5 | 9 | 5\n",
      "x = 6 | 7 | 11\n",
      "x = 7 | 16 | 9\n",
      "x = 8 | 4 | 16\n",
      "x = 9 | 1 | 1\n",
      "x = 10 | 5 | 6\n",
      "x = 11 | 6 | 17\n",
      "x = 12 | 11 | 7\n",
      "x = 13 | 17 | 4\n",
      "x = 14 | 9 | 5\n",
      "x = 15 | 7 | 11\n",
      "x = 16 | 16 | 9\n",
      "x = 17 | 4 | 16\n",
      "x = 18 | 1 | 1\n"
     ]
    }
   ],
   "source": [
    "a = 5\n",
    "p = 19\n",
    "n = 11\n",
    "for x in range(0,p) :\n",
    "    a_x = a**x % p\n",
    "    a_n_x = a**(n*x) % p\n",
    "    print(f'x = {x} | {a_x} | {a_n_x}')"
   ]
  },
  {
   "cell_type": "code",
   "execution_count": null,
   "id": "56557408",
   "metadata": {},
   "outputs": [
    {
     "name": "stdout",
     "output_type": "stream",
     "text": [
      "[1, 4, 4, 2]\n",
      "[1, 4, 2]\n",
      "3\n"
     ]
    }
   ],
   "source": [
    "p = 5\n",
    "X = []\n",
    "for a in range(1,p):\n",
    "    i=1\n",
    "    for x in range(1,p) :\n",
    "        a_x = a**x % p\n",
    "        #print(f'x = {x} | {a_x} | {a_n_x}')\n",
    "        if a_x == 1 : \n",
    "            X.append(i)\n",
    "            break\n",
    "        i+=1\n",
    "\n",
    "print(X)\n",
    "res = []\n",
    "for val in X :\n",
    "    if val not in res:\n",
    "        res.append(val)\n",
    "\n",
    "print(res)\n",
    "\n",
    "print(f'{len(res)}')"
   ]
  },
  {
   "cell_type": "markdown",
   "id": "f5ee8302",
   "metadata": {},
   "source": [
    "## Problem 3"
   ]
  },
  {
   "cell_type": "code",
   "execution_count": null,
   "id": "0e347a57",
   "metadata": {},
   "outputs": [],
   "source": [
    "def find_modulo_inverse(input, modulo) : #Finds inverse in modulo.\n",
    "    #e.g. 2 inverse in mod 3 is 2 b/c 2*2 = 4(mod 3) = 1\n",
    "    #==Inputs== \n",
    "    #input: value to find the inverse of\n",
    "    #modulo: value of the modulus\n",
    "\n",
    "    i=modulo\n",
    "    while i>0 :\n",
    "        if np.mod(input*i,modulo) == 1 :\n",
    "            return i\n",
    "        i-=1\n",
    "    return 0\n",
    "\n",
    "def Elliptic_Add_GF(point_P, point_Q,a,b,p) : #\n",
    "    \n",
    "    if point_P == [0,0]: return point_Q #O + Q = Q\n",
    "    if point_Q == [0,0]: return point_P #O + P = P\n",
    "\n",
    "    if point_P == point_Q: # P + P = 2P\n",
    "        inv = find_modulo_inverse((2*point_P[1]),p) #denominator of S\n",
    "        S = (((3*point_P[0]*point_P[0]) + a) * inv)\n",
    "        #print('same')\n",
    "    else:\n",
    "        inv = find_modulo_inverse((point_Q[0] - point_P[0]), p) #denominator of S\n",
    "        S = ((point_Q[1] - point_P[1]) * inv) % p\n",
    "\n",
    "    if inv == 0 : #cannot divide by 0. --> occurs when P + Q = O\n",
    "        return [0,0]\n",
    "\n",
    "    x_R = (S*S - point_P[0] - point_Q[0]) % p\n",
    "    y_R = (S*(point_P[0]-x_R)-point_P[1]) % p\n",
    "\n",
    "    return [x_R,y_R]"
   ]
  },
  {
   "cell_type": "code",
   "execution_count": null,
   "id": "1f2dfc3f",
   "metadata": {},
   "outputs": [
    {
     "name": "stdout",
     "output_type": "stream",
     "text": [
      "\n",
      "PB = [12, 17]\n"
     ]
    }
   ],
   "source": [
    "nB = 8 #bob private key\n",
    "\n",
    "PB = [16,5]\n",
    "for i in range(1,nB) :\n",
    "    PB = Elliptic_Add_GF(PB,G,a,b,p)\n",
    "    #print(PB)\n",
    "\n",
    "print('')\n",
    "print(f'PB = {PB}')"
   ]
  },
  {
   "cell_type": "code",
   "execution_count": null,
   "id": "06502e39",
   "metadata": {},
   "outputs": [
    {
     "name": "stdout",
     "output_type": "stream",
     "text": [
      "[17, 0]\n",
      "[12, 6]\n",
      "[0, 0]\n",
      "pub_product = [0, 0]\n",
      "[[19, 20], [4, 5]]\n"
     ]
    }
   ],
   "source": [
    "xA = 4\n",
    "M = [4,5]\n",
    "\n",
    "C1 = [16,5]\n",
    "for i in range(1,xA) :\n",
    "    C1 = Elliptic_Add_GF(C1,G,a,b,p)\n",
    "\n",
    "public_product = PB #xA*PB\n",
    "for i in range(1,xA) :\n",
    "    public_product = Elliptic_Add_GF(public_product,PB,a,b,p)\n",
    "    print(public_product)\n",
    "\n",
    "print(f'pub_product = {public_product}')\n",
    "\n",
    "C2 = Elliptic_Add_GF(M,public_product,a,b,p)\n",
    "\n",
    "C = [C1,C2] \n",
    "print(C)"
   ]
  },
  {
   "cell_type": "code",
   "execution_count": null,
   "id": "84c3514a",
   "metadata": {},
   "outputs": [
    {
     "name": "stdout",
     "output_type": "stream",
     "text": [
      "[19, 20]\n",
      "[12, 17]\n",
      "[18, 10]\n",
      "[17, 0]\n",
      "[18, 13]\n",
      "[12, 6]\n",
      "[19, 3]\n",
      "[0, 0]\n",
      "[0, 0]\n",
      "[4, 5]\n"
     ]
    }
   ],
   "source": [
    "#Alice public key\n",
    "C1 = C[0]\n",
    "C2 = C[1]\n",
    "print(C1)\n",
    "nB_x_C1 = C1\n",
    "for i in range(1,nB) :\n",
    "    nB_x_C1 = Elliptic_Add_GF(nB_x_C1,C1,a,b,p)\n",
    "    print(nB_x_C1)\n",
    "\n",
    "nB_x_C1[1] =-nB_x_C1[1]\n",
    "print(nB_x_C1)\n",
    "\n",
    "M = Elliptic_Add_GF(C2, nB_x_C1,a,b,p)\n",
    "print(M)"
   ]
  },
  {
   "cell_type": "markdown",
   "id": "1bc8c6cb",
   "metadata": {},
   "source": [
    "## Problem 5"
   ]
  },
  {
   "cell_type": "markdown",
   "id": "fd97fe02",
   "metadata": {},
   "source": [
    "(a) Write a computer program to compute a power of a number in $\\mathbb{Z}_{p}$. Your program should take $a$, $n$, and $p$ and\n",
    "compute $a^{n}$ (mod $p$). Note that $a$ and $n$ may be very large so that an is infeasible to be evaluated. Recall the\n",
    "efficient approch based on the binary expansion of $n$, we discussed in class."
   ]
  },
  {
   "cell_type": "code",
   "execution_count": 2,
   "id": "d99e87f6",
   "metadata": {},
   "outputs": [],
   "source": [
    "def exp(a,n,p) : # computes a^n (mod p)\n",
    "    output = 1\n",
    "    while n > 0:\n",
    "        if (n & 1) == 1 : output = (output * a) % p # if leftmost bit = 2\n",
    "        a = (a * a) % p\n",
    "        n >>= 1 # find next leftmost bit.\n",
    "    return output\n"
   ]
  },
  {
   "cell_type": "markdown",
   "id": "e1ea775a",
   "metadata": {},
   "source": [
    "(b) Implement an encryptor for an RSA system with public key ($n$,$e$)."
   ]
  },
  {
   "cell_type": "code",
   "execution_count": null,
   "id": "97bbe5d3",
   "metadata": {},
   "outputs": [],
   "source": [
    "def RSA_encrypt(M,e,n): #encrypts RSA message M by doing M^e (mod n)\n",
    "    output = exp(M,e,n)\n",
    "    return output"
   ]
  },
  {
   "cell_type": "markdown",
   "id": "f86b4ad0",
   "metadata": {},
   "source": [
    "(c) Let $M$ be your UMN student ID. Use your program to encrypt $M$ with $n$ = 31189420800514467447616631563\n",
    "and $e$ = 2887920783636036798964123603."
   ]
  },
  {
   "cell_type": "code",
   "execution_count": null,
   "id": "7e505243",
   "metadata": {},
   "outputs": [
    {
     "name": "stdout",
     "output_type": "stream",
     "text": [
      "C = 31027703950070711403380330146\n"
     ]
    }
   ],
   "source": [
    "id = 5631519\n",
    "n = 31189420800514467447616631563\n",
    "e = 2887920783636036798964123603\n",
    "\n",
    "C = RSA_encrypt(id,e,n)\n",
    "print(f'C = {C}')"
   ]
  }
 ],
 "metadata": {
  "kernelspec": {
   "display_name": "Python 3",
   "language": "python",
   "name": "python3"
  },
  "language_info": {
   "codemirror_mode": {
    "name": "ipython",
    "version": 3
   },
   "file_extension": ".py",
   "mimetype": "text/x-python",
   "name": "python",
   "nbconvert_exporter": "python",
   "pygments_lexer": "ipython3",
   "version": "3.11.9"
  }
 },
 "nbformat": 4,
 "nbformat_minor": 5
}
