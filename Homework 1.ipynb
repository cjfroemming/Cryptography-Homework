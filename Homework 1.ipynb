{
 "cells": [
  {
   "cell_type": "code",
   "execution_count": 1,
   "id": "8fc4e366-0b1c-4827-91d2-7a4b017a7525",
   "metadata": {},
   "outputs": [],
   "source": [
    "import sympy as sp\n",
    "import numpy as np\n",
    "import galois as gf\n",
    "import pandoc\n",
    "from math import *\n",
    "\n",
    "np.set_printoptions(legacy='1.25')"
   ]
  },
  {
   "cell_type": "markdown",
   "id": "466f5140",
   "metadata": {},
   "source": [
    "# Homework 1"
   ]
  },
  {
   "cell_type": "markdown",
   "id": "ab725591",
   "metadata": {},
   "source": [
    "## Problem 1"
   ]
  },
  {
   "cell_type": "markdown",
   "id": "6d9b4ece",
   "metadata": {},
   "source": [
    "In a finite field GF(p), we can divide a polynomial $a(x)$ by another polynomial $b(x)$ to obtain a quotient $q(x)$ and\n",
    "a reminder $r(x)$ that satisfy:\n",
    "\n",
    "(i) $a(x) \\stackrel{p}{≡} b(x).q(x) + r(x),$\n",
    "\n",
    "(ii) $deg(r(x)) < deg(b(x)).$\n",
    "\n",
    "Here is an example of how it works. Let $a(x) = x^{3} + x + 2,$ $b(x) = 2x + 1$ and $p = 3.$ Note that for a polynomial $m(x),$ we denote the coefficient of $x^{k}$ by $m_{k}.$ For instance, we have ($b_{1}, b_{0}$) = (2, 1):\n",
    "- Set $q(x) = 0;$\n",
    "- Find the multiplicative inverse of $b_{1}$ in GF($3$), i.e., $2^{−1}$ $\\stackrel{3}{≡} 2$.\n",
    "- Find the difference between the degree of $a(x)$ and $b(x),$ which is $d = 3 − 1 = 2.$\n",
    "- Set s(x) = $b^{−1}_{1} ∗ a_{3} ∗ x^{d} = 2x^{2}$ and update $q(x) ← q(x) + s(x) = 2x^{2}$.\n",
    "- Update $a(x) ← a(x) − b(x) · s(x) = x^{3} + x + 2 − 4x^{3} − 2x^{2} \\stackrel{3}{≡} x^{2} + x + 2.$\n",
    "- Find the difference between the degree of $a(x)$ and $b(x)$, which is $d = 2 − 1 = 1.$\n",
    "- Set $s(x) = b^{−1}_{1} ∗ a_{2} ∗ x^{d} = 2x$ and update $q(x) ← q(x) + s(x) = 2x^{2} + 2x.$\n",
    "- Update $a(x) ← a(x) − b(x) · s(x) = (x^{2} + x + 2) − 4x^{2} − 2x \\stackrel{3}{≡} 2x + 2.$\n",
    "- Find the difference between the degree of $a(x)$ and $b(x),$ which is $d = 1 − 1 = 0.$\n",
    "- Set $s(x) = b^{−1}_{1} ∗ a_{1} ∗ x^{d} = 1$ and update $q(x) ← q(x) + s(x) = 2x^{2} + 2x + 1.$\n",
    "- Update $a(x) ← a(x) − b(x) · s(x) = (2x + 2) − 2x − 1 \\stackrel{3}{≡} 1.$\n",
    "- Set $r(x) = a(x) = 1,$ since $deg(a(x)) < deg(b(x)).$\n",
    "\n",
    "Therefore, at the end, we get $q(x) = 2x^{2} + 2x + 1$ and $r(x) = 1.$\n",
    "\n",
    "(a) Write a code that takes two polynomials $a(x)$ and $b(x),$ together with a prime number $p$ and returns $q(x)$ and $r(x).$ Note that polynomial $m(x) = m_{k}x^{k} + m_{k−1}x^{k−1} + · · · + m_{1}x + m_{0}$ can be represented in the form of the vector of coefficients, i.e., $[m_{k}, m_{k−1}, . . . , m_{2}, m_{1}, m_{0}].$\n",
    "\n"
   ]
  },
  {
   "cell_type": "code",
   "execution_count": 2,
   "id": "3de077b8",
   "metadata": {},
   "outputs": [],
   "source": [
    "\n",
    "# Calculate a polynomial\n",
    "def calc_polynomial(poly_a, input) :\n",
    "    degree_a = len(poly_a)-1\n",
    "    i=degree_a\n",
    "    output = 0\n",
    "    while i>=0 :\n",
    "        output = poly_a[degree_a-i]*input**i + output\n",
    "        i-=1\n",
    "    return output\n",
    "\n",
    "#Finds inverse in modulo. e.g. 2 inverse in mod 3 is 2 b/c 2*2 = 4(mod 3) = 1\n",
    "#==Inputs== \n",
    "#input: value to find the inverse of\n",
    "#modulo: value of the modulus\n",
    "def find_modulo_inverse(input, modulo) :\n",
    "    i=modulo\n",
    "    while i>0 :\n",
    "        if np.mod(input*i,modulo) == 1 :\n",
    "            return i\n",
    "        i-=1\n",
    "    return 0\n",
    "\n",
    "#Finds the degree of a polynomial vector by ignoring finding the first non-zero value.\n",
    "def find_degree(polynomial) :\n",
    "    shift = 0\n",
    "    for i in polynomial :\n",
    "        if i!=0 :\n",
    "            return len(polynomial)-shift-1\n",
    "        else : \n",
    "            shift +=1\n",
    "    return 0\n",
    "\n",
    "#Removes all zeros in a polynomial vector preceeding the first non-zero element.\n",
    "#e.g. [0, 0, 0, 2, 0, 3, 0] --> [2, 0, 3, 0]\n",
    "def remove_zeros(polynomial) :\n",
    "    shift = 0\n",
    "    for i in polynomial :\n",
    "        if i!=0 :\n",
    "            while shift>0 :\n",
    "                polynomial.pop(0)\n",
    "                shift-=1\n",
    "        else : \n",
    "            shift +=1\n",
    "    return polynomial\n",
    "\n",
    "\n",
    "#Description:   follows the steps outlined in Problem 1 to divide a polynomial a(x) by another polynomial, b(x)\n",
    "#               to get the quotient q(x) and the remainder r(x)\n",
    "#==Inputs==\n",
    "#a: Vector of polynomial coefficients starting at the highest degree. e.g. a(x) 3x^2 + 1 --> poly_a=[3 0 1]\n",
    "#b: Vector of polynomial coefficients to divide into a(x), same format as a. Note: len(b)<len(a) must be true!\n",
    "#GF: Galois Field order, e.g. GF(p) --> GF=p, where p must be prime.\n",
    "#==Outputs\n",
    "#divide_in_GF[0] = q(x)\n",
    "#divide_in_GF[1] = r(x)\n",
    "def divide_in_GF(poly_a, poly_b, GF):\n",
    "    degree_a = find_degree(poly_a) # Get degree of each polynomial\n",
    "    print(f\"degree a(x): {degree_a}\")\n",
    "    degree_b = find_degree(poly_b)\n",
    "    print(f\"degree b(x): {degree_b}\")\n",
    "    poly_q = 0\n",
    "    \n",
    "    #Calculate degree difference between a(x) and b(x)\n",
    "    if degree_a > degree_b :\n",
    "        degree_diff = degree_a - degree_b\n",
    "        print(f\"degree difference: {degree_a} - {degree_b} = {degree_diff}\")\n",
    "    else :\n",
    "        print(\"ERROR: degree of a < degree of b !\")\n",
    "        return 0\n",
    "\n",
    "    bk_inverse = find_modulo_inverse(poly_b[0],GF) # find inverse of highest power of b\n",
    "    print(f\"b{degree_b} = {bk_inverse}\")\n",
    "\n",
    "    a_index = 0 #index of poly_a, to be looped over\n",
    "    poly_s = [0] * (degree_a) #Create an empty matrix of n=degree_diff elements \n",
    "    poly_q = [0] * (degree_a)\n",
    "    while a_index<degree_a :\n",
    "        print('')\n",
    "        print(f'STARTLOOP a_index={a_index}')\n",
    "        print(f'degree_diff = {degree_diff}')\n",
    "\n",
    "\n",
    "        sq_index = len(poly_s)-1-degree_diff #starts at the first non-zero element and decrements with degree_diff\n",
    "        print(f'sq_index={sq_index}')\n",
    "        print(f'a_index={a_index}')\n",
    "\n",
    "        poly_s[sq_index] = np.mod((bk_inverse*poly_a[a_index]),GF)\n",
    "        print(f's(x) = {poly_s}')\n",
    "\n",
    "        poly_q =  np.mod(np.polyadd(poly_s,poly_q),GF)\n",
    "        print(f'q(x) = {poly_q}')\n",
    "        print(f's(x)*b(x)={np.mod(np.polymul(poly_s,poly_b),GF)}')\n",
    "\n",
    "        poly_a = np.mod(np.polysub(poly_a,np.mod(np.polymul(poly_s,poly_b),GF)),GF)\n",
    "        print(f'a(x) = {poly_a}')\n",
    " \n",
    "        poly_s[sq_index]=0 #reset s(x) = 0 for next loop\n",
    "\n",
    "        print('ENDLOOP')\n",
    "        if degree_diff == 0 : #end loop condition.\n",
    "            break\n",
    "\n",
    "        #incrementing/decrementing values\n",
    "        a_index+=1\n",
    "        sq_index+=1\n",
    "        degree_diff = find_degree(poly_a) - find_degree(poly_b)\n",
    "        \n",
    "\n",
    "    #remove all the preceeding zeros and output answers. \n",
    "    remainder = remove_zeros(poly_a.tolist())\n",
    "    poly_q = remove_zeros(poly_q.tolist())\n",
    "\n",
    "    return (poly_q,remainder)\n",
    "\n",
    "#pretty simple function to print polynomial coefficient vectors readably\n",
    "def print_polynomial(polynomial) :\n",
    "    degree = len(polynomial)-1\n",
    "    for i in polynomial :\n",
    "        print(f'{i}x^{degree} +')\n",
    "        degree-=1\n"
   ]
  },
  {
   "cell_type": "code",
   "execution_count": 3,
   "id": "09facf2c",
   "metadata": {},
   "outputs": [
    {
     "name": "stdout",
     "output_type": "stream",
     "text": [
      "degree a(x): 3\n",
      "degree b(x): 1\n",
      "degree difference: 3 - 1 = 2\n",
      "b1 = 2\n",
      "\n",
      "STARTLOOP a_index=0\n",
      "degree_diff = 2\n",
      "sq_index=0\n",
      "a_index=0\n",
      "s(x) = [2, 0, 0]\n",
      "q(x) = [2 0 0]\n",
      "s(x)*b(x)=[1 2 0 0]\n",
      "a(x) = [0 1 1 2]\n",
      "ENDLOOP\n",
      "\n",
      "STARTLOOP a_index=1\n",
      "degree_diff = 1\n",
      "sq_index=1\n",
      "a_index=1\n",
      "s(x) = [0, 2, 0]\n",
      "q(x) = [2 2 0]\n",
      "s(x)*b(x)=[1 2 0]\n",
      "a(x) = [0 0 2 2]\n",
      "ENDLOOP\n",
      "\n",
      "STARTLOOP a_index=2\n",
      "degree_diff = 0\n",
      "sq_index=2\n",
      "a_index=2\n",
      "s(x) = [0, 0, 1]\n",
      "q(x) = [2 2 1]\n",
      "s(x)*b(x)=[2 1]\n",
      "a(x) = [0 0 0 1]\n",
      "ENDLOOP\n"
     ]
    }
   ],
   "source": [
    "#The Problem 1 Example\n",
    "a = [1, 0, 1, 2]\n",
    "b = [2, 1]\n",
    "GF = 3\n",
    "\n",
    "example1 = divide_in_GF(a,b,GF)"
   ]
  },
  {
   "cell_type": "markdown",
   "id": "57fc5c8f",
   "metadata": {},
   "source": [
    "Let's print out the answer to see if it's correct."
   ]
  },
  {
   "cell_type": "code",
   "execution_count": 4,
   "id": "890b2920",
   "metadata": {},
   "outputs": [
    {
     "name": "stdout",
     "output_type": "stream",
     "text": [
      "q(x) =\n",
      "2x^2 +\n",
      "2x^1 +\n",
      "1x^0 +\n",
      "\n",
      "r(x) =\n",
      "1x^0 +\n"
     ]
    }
   ],
   "source": [
    "print('q(x) =')\n",
    "print_polynomial(example1[0])\n",
    "print('')\n",
    "print('r(x) =')\n",
    "print_polynomial(example1[1])"
   ]
  },
  {
   "cell_type": "markdown",
   "id": "e47e4490",
   "metadata": {},
   "source": [
    "Yep! That looks like $q(x) = 2x^{2} + 2x + 1$ and $r(x) = 1.$ to me!"
   ]
  },
  {
   "cell_type": "markdown",
   "id": "ba2d0500",
   "metadata": {},
   "source": [
    "(b) Let $a(x) = 5x^{8} + 3x^{3} + 2x^{2} + 4$ and $b(x) = 4x^{3} + x^{2} + 6.$ Compute $q(x)$ and $r(x)$ in GF($7$) using your code."
   ]
  },
  {
   "cell_type": "code",
   "execution_count": 5,
   "id": "98aa2a03",
   "metadata": {},
   "outputs": [
    {
     "name": "stdout",
     "output_type": "stream",
     "text": [
      "degree a(x): 8\n",
      "degree b(x): 3\n",
      "degree difference: 8 - 3 = 5\n",
      "b3 = 2\n",
      "\n",
      "STARTLOOP a_index=0\n",
      "degree_diff = 5\n",
      "sq_index=2\n",
      "a_index=0\n",
      "s(x) = [0, 0, 3, 0, 0, 0, 0, 0]\n",
      "q(x) = [0 0 3 0 0 0 0 0]\n",
      "s(x)*b(x)=[5 3 0 4 0 0 0 0 0]\n",
      "a(x) = [0 4 0 3 0 3 2 0 4]\n",
      "ENDLOOP\n",
      "\n",
      "STARTLOOP a_index=1\n",
      "degree_diff = 4\n",
      "sq_index=3\n",
      "a_index=1\n",
      "s(x) = [0, 0, 0, 1, 0, 0, 0, 0]\n",
      "q(x) = [0 0 3 1 0 0 0 0]\n",
      "s(x)*b(x)=[4 1 0 6 0 0 0 0]\n",
      "a(x) = [0 0 6 3 1 3 2 0 4]\n",
      "ENDLOOP\n",
      "\n",
      "STARTLOOP a_index=2\n",
      "degree_diff = 3\n",
      "sq_index=4\n",
      "a_index=2\n",
      "s(x) = [0, 0, 0, 0, 5, 0, 0, 0]\n",
      "q(x) = [0 0 3 1 5 0 0 0]\n",
      "s(x)*b(x)=[6 5 0 2 0 0 0]\n",
      "a(x) = [0 0 0 5 1 1 2 0 4]\n",
      "ENDLOOP\n",
      "\n",
      "STARTLOOP a_index=3\n",
      "degree_diff = 2\n",
      "sq_index=5\n",
      "a_index=3\n",
      "s(x) = [0, 0, 0, 0, 0, 3, 0, 0]\n",
      "q(x) = [0 0 3 1 5 3 0 0]\n",
      "s(x)*b(x)=[5 3 0 4 0 0]\n",
      "a(x) = [0 0 0 0 5 1 5 0 4]\n",
      "ENDLOOP\n",
      "\n",
      "STARTLOOP a_index=4\n",
      "degree_diff = 1\n",
      "sq_index=6\n",
      "a_index=4\n",
      "s(x) = [0, 0, 0, 0, 0, 0, 3, 0]\n",
      "q(x) = [0 0 3 1 5 3 3 0]\n",
      "s(x)*b(x)=[5 3 0 4 0]\n",
      "a(x) = [0 0 0 0 0 5 5 3 4]\n",
      "ENDLOOP\n",
      "\n",
      "STARTLOOP a_index=5\n",
      "degree_diff = 0\n",
      "sq_index=7\n",
      "a_index=5\n",
      "s(x) = [0, 0, 0, 0, 0, 0, 0, 3]\n",
      "q(x) = [0 0 3 1 5 3 3 3]\n",
      "s(x)*b(x)=[5 3 0 4]\n",
      "a(x) = [0 0 0 0 0 0 2 3 0]\n",
      "ENDLOOP\n"
     ]
    }
   ],
   "source": [
    "\n",
    "a = [5, 0, 0, 0, 0, 3, 2, 0, 4]\n",
    "b = [4, 1, 0, 6]\n",
    "GF = 7\n",
    "\n",
    "answer = divide_in_GF(a,b,GF)"
   ]
  },
  {
   "cell_type": "code",
   "execution_count": 6,
   "id": "232f6e94",
   "metadata": {},
   "outputs": [
    {
     "name": "stdout",
     "output_type": "stream",
     "text": [
      "q(x) =\n",
      "3x^5 +\n",
      "1x^4 +\n",
      "5x^3 +\n",
      "3x^2 +\n",
      "3x^1 +\n",
      "3x^0 +\n",
      "\n",
      "r(x) =\n",
      "2x^2 +\n",
      "3x^1 +\n",
      "0x^0 +\n"
     ]
    }
   ],
   "source": [
    "print('q(x) =')\n",
    "print_polynomial(answer[0])\n",
    "print('')\n",
    "print('r(x) =')\n",
    "print_polynomial(answer[1])"
   ]
  },
  {
   "cell_type": "markdown",
   "id": "58c05438",
   "metadata": {},
   "source": []
  },
  {
   "cell_type": "markdown",
   "id": "444228bd",
   "metadata": {},
   "source": [
    "## Problem 2"
   ]
  },
  {
   "cell_type": "markdown",
   "id": "93d7c8b0",
   "metadata": {},
   "source": [
    "A square matrix is invertible (or full-rank) if and only if its determinant is non-zero or, equivalently, its rows are\n",
    "linearly independent. Let\n",
    "\n",
    " $ \\begin{align} A = \\begin{bmatrix} - & a_1 & - \\\\ - & a_2 & - \\\\ - & a_3 & - \\\\  & \\vdots &  \\\\ - & a_n & - \\end{bmatrix} , \\end{align} $\n",
    "\n",
    "be a **full-rank matrix** with its elements from GF($q$), where $a_{i}$ is the *i*th row of matrix A.\n",
    "\n",
    "(a) How many choices for $a_{1}$ exists?\n",
    "\n",
    "(b) Once you fix $a_{1}$, how many choices for $a_{2}$ we have, such that $a_{1}$ and $a_{2}$ are linearly independent?\n",
    "\n",
    "(c) If $a_{1}$ and $a_{2}$ are linearly independent, how linear combination of $a_{1}$ and $a_{2}$ exixts?\n",
    "\n",
    "(d) Once you fix $a_{1}, a_{2},$ how many choices for $a_{3}$ do we have, such that $a_{3}$ is linearly independent from $(a_{1}, a_{2})?$\n",
    "\n",
    "(e) Given rows $a_{1}, . . . , a_{m−1},$ how many valid choices exist for a general row $a_{m}$ to have a full-rank matrix?\n",
    "\n",
    "(f) In general, how many full-rank matrices of size $n$ in GF(q) exists?\n",
    "\n",
    "(g) How many matrices (regardless of their rank) are in GF(q)?\n",
    "\n",
    "(h) If you generate an $n × n$ matrix uniformly at random, what is the probability that it is full-rank?\n"
   ]
  },
  {
   "cell_type": "code",
   "execution_count": null,
   "id": "9e235339",
   "metadata": {},
   "outputs": [],
   "source": []
  },
  {
   "cell_type": "markdown",
   "id": "1e1ffeeb",
   "metadata": {},
   "source": [
    "## Problem 3"
   ]
  },
  {
   "cell_type": "markdown",
   "id": "2bdef842",
   "metadata": {},
   "source": [
    "Write a computer program that takes a prime number $p$ and an irreducible polynomial $m(x)$ of degree $k$ in GF($p$) to generate GF($p^{k}$) and its operations. Let $α$ be a root of $m(x).$ Note that each element of GF($p^{k}$) is of the form of $b = b_{k−1}α^{k−1} + b_{k−2}α^{k−2} + · · · + b_{1α} + b_{0},$ which you can represent by $B = [b_{k−1}, b_{k−2}, . . . , b_{1}, b_{0}].$ Then, you need to implement two commands\n",
    "\n",
    "• MyGFAdd($A,B,M,p$) that returns the summation of $a$ and $b$ in GF($p^{k}$);\n",
    "\n",
    "• MyGFMult($A,B,M,p$) that returns the multiplication of $a$ and $b$ in GF($p^{k}$)."
   ]
  },
  {
   "cell_type": "code",
   "execution_count": null,
   "id": "544e8eaf",
   "metadata": {},
   "outputs": [],
   "source": []
  },
  {
   "cell_type": "markdown",
   "id": "8fc0b49a",
   "metadata": {},
   "source": [
    "## Problem 4"
   ]
  },
  {
   "cell_type": "markdown",
   "id": "661e245f",
   "metadata": {},
   "source": [
    "In this problem, you are supposed to decode a ciphertext that is encrypted using the Vig\\'enere cipher. You should return the key, the plaintext, and your codes.\n",
    "\n",
    "You may write all the codes from scratch or use the provided MATLAB codes to simplify your task. The provided files are.\n",
    "\n",
    "• ciphertext.txt in which the ciphertext is provided.\n",
    "\n",
    "• EngAlphabetFrequency.mat in which the empirical frequency of the English alphabet is provided. Note that the first character is space, which is followed by 26 letters.\n",
    "\n",
    "• find rep.m that finds all repeats of a given length in a given text. For instance:\n",
    "> find rep(’this is the best and simplest scheme.’,4)\n",
    "\n",
    "> {[14 27]}\n",
    "\n",
    "as ’est ’ appears in positions 14 and 27 of the sentence.\n",
    "> find rep(’this is the best and simplest scheme.’,5)\n",
    "\n",
    "> 0×0 empty cell array\n",
    "\n",
    "as there is no repeat of length 5 in the sentence.\n",
    "\n",
    "• EmpiricalFrequency.m that returns the empirical frequency of letters in a text.\n",
    "Also, plot the histograms of the ciphertext and the plaintext."
   ]
  },
  {
   "cell_type": "markdown",
   "id": "2915c3fd",
   "metadata": {},
   "source": [
    "### EmpiricalFrequency.m"
   ]
  },
  {
   "cell_type": "code",
   "execution_count": 7,
   "id": "4e7461d1",
   "metadata": {},
   "outputs": [],
   "source": [
    "import csv"
   ]
  },
  {
   "cell_type": "code",
   "execution_count": 8,
   "id": "d8c1cc31",
   "metadata": {},
   "outputs": [],
   "source": [
    "def ProcessFile(filename,type) :\n",
    "    if type == 'file' :\n",
    "        file = open(filename)\n",
    "        readfile = file.read()\n",
    "        input = readfile\n",
    "    elif type == 'char' :\n",
    "        input = filename\n",
    "    else :\n",
    "        return -1\n",
    "\n",
    "    alphabet = ' abcdefghijklmnopqrstuvwxyz'\n",
    "    input = input.lower()\n",
    "\n",
    "    #Create Known \n",
    "    known = [False] * len(input)\n",
    "\n",
    "    input = list(input)\n",
    "    #print(input)\n",
    "\n",
    "    #Replace all unknown characters with spaces\n",
    "    known = [char if char in alphabet else ' ' for char in input]\n",
    "    #Replace all double spaces with single spaces\n",
    "    known_str = ''.join(known)\n",
    "    known_str_single_space = ' '.join(known_str.split())\n",
    "    output = list(known_str_single_space)\n",
    "    return output\n",
    "\n",
    "\n",
    "def EmpiricalFrequency(filename,type) :\n",
    "    if type == 'file' :\n",
    "        file = open(filename)\n",
    "        readfile = file.read()\n",
    "        input = readfile\n",
    "    elif type == 'char' :\n",
    "        input = filename\n",
    "    else :\n",
    "        return -1\n",
    "\n",
    "    alphabet = ' abcdefghijklmnopqrstuvwxyz'\n",
    "    input = input.lower()\n",
    "\n",
    "    #Create Known \n",
    "    known = [False] * len(input)\n",
    "\n",
    "    input = list(input)\n",
    "    #print(input)\n",
    "\n",
    "    #Replace all unknown characters with spaces\n",
    "    known = [char if char in alphabet else ' ' for char in input]\n",
    "    #Replace all double spaces with single spaces\n",
    "    known_str = ''.join(known)\n",
    "    known_str_single_space = ' '.join(known_str.split())\n",
    "\n",
    "    #Initialize Frequency list\n",
    "    na=len(alphabet)\n",
    "    F = np.zeros(na, dtype=int)\n",
    "\n",
    "    for char in known_str_single_space:\n",
    "        if char in alphabet:\n",
    "            ps = alphabet.index(char)  # Get the position of the character in the alphabet\n",
    "            F[ps] += 1  # Increment the frequency count for this character\n",
    "\n",
    "    # Normalize the frequency\n",
    "    F_normalized = F / np.sum(F) if np.sum(F) > 0 else F  # Avoid division by zero\n",
    "    return F_normalized\n"
   ]
  },
  {
   "cell_type": "code",
   "execution_count": 9,
   "id": "00171719",
   "metadata": {},
   "outputs": [
    {
     "data": {
      "text/plain": [
       "array([0.        , 0.16666667, 0.16666667, 0.16666667, 0.16666667,\n",
       "       0.16666667, 0.16666667, 0.        , 0.        , 0.        ,\n",
       "       0.        , 0.        , 0.        , 0.        , 0.        ,\n",
       "       0.        , 0.        , 0.        , 0.        , 0.        ,\n",
       "       0.        , 0.        , 0.        , 0.        , 0.        ,\n",
       "       0.        , 0.        ])"
      ]
     },
     "execution_count": 9,
     "metadata": {},
     "output_type": "execute_result"
    }
   ],
   "source": [
    "EmpiricalFrequency('abcdef','char')"
   ]
  },
  {
   "cell_type": "code",
   "execution_count": 10,
   "id": "2da6a5df",
   "metadata": {},
   "outputs": [
    {
     "name": "stdout",
     "output_type": "stream",
     "text": [
      "[0.02669762 0.05252467 0.02814858 0.03250145 0.02698781 0.0548462\n",
      " 0.04962275 0.03627394 0.02669762 0.04149739 0.04526988 0.013639\n",
      " 0.03685432 0.04178758 0.04962275 0.03366222 0.04091701 0.04062681\n",
      " 0.0377249  0.05165409 0.0446895  0.04352873 0.02466628 0.03337203\n",
      " 0.04265815 0.02553685 0.01799187]\n"
     ]
    }
   ],
   "source": [
    "print(EmpiricalFrequency('ciphertext.txt', 'file'))"
   ]
  },
  {
   "cell_type": "markdown",
   "id": "19017d9f",
   "metadata": {},
   "source": [
    "### rep.m"
   ]
  },
  {
   "cell_type": "code",
   "execution_count": 11,
   "id": "50df80a8",
   "metadata": {},
   "outputs": [
    {
     "name": "stdout",
     "output_type": "stream",
     "text": [
      "[[13, 26]]\n"
     ]
    }
   ],
   "source": [
    "def find_rep(A, k):\n",
    "    n = len(A)\n",
    "    #print(n)\n",
    "    pos = []\n",
    "    all_pos = set()  # Use a set to track all positions\n",
    "    \n",
    "    for i in range(0,n - k + 1):\n",
    "        if i not in all_pos:  # Avoid double reporting\n",
    "            pattern = A[i:i+k]  # Extract the substring\n",
    "            occurrences = [j for j in range(n - k + 1) if A[j:j + k] == pattern]\n",
    "            if len(occurrences) > 1:\n",
    "                pos.append(occurrences)  # Store the positions\n",
    "                all_pos.update(occurrences)  # Update the set with new positions\n",
    "                \n",
    "    return pos\n",
    "\n",
    "# Example usage\n",
    "result = find_rep('this is the best and simplest scheme.', 4)\n",
    "print(result)  # Output: [[13, 26]] (Python indexes at 0, MATLAB indexes at 1)"
   ]
  },
  {
   "cell_type": "code",
   "execution_count": 159,
   "id": "6a6ac4f6",
   "metadata": {},
   "outputs": [],
   "source": [
    "def ProcessFile(filename,type) :\n",
    "    if type == 'file' :\n",
    "        file = open(filename)\n",
    "        readfile = file.read()\n",
    "        input = readfile\n",
    "    elif type == 'char' :\n",
    "        input = filename\n",
    "    else :\n",
    "        return -1\n",
    "\n",
    "    alphabet = ' abcdefghijklmnopqrstuvwxyz'\n",
    "    input = input.lower()\n",
    "\n",
    "    #Create Known \n",
    "    known = [False] * len(input)\n",
    "\n",
    "    input = list(input)\n",
    "    #print(input)\n",
    "\n",
    "    #Replace all unknown characters with spaces\n",
    "    known = [char if char in alphabet else ' ' for char in input]\n",
    "    #Replace all double spaces with single spaces\n",
    "    known_str = ''.join(known)\n",
    "    known_str_single_space = ' '.join(known_str.split())\n",
    "    output = list(known_str_single_space)\n",
    "    return output\n"
   ]
  },
  {
   "cell_type": "code",
   "execution_count": 13,
   "id": "2cecd0a0",
   "metadata": {},
   "outputs": [
    {
     "name": "stdout",
     "output_type": "stream",
     "text": [
      "['a', 'b', 'c', ' ', 'e', 'f', ' ', 'g', ' ', 'd', 'a', 'b']\n"
     ]
    }
   ],
   "source": [
    "#test Case\n",
    "print(ProcessFile('testcipher.txt','file'))\n",
    "#input:     abc  ef,  g01!dab\n",
    "# #1        abc  ef   g   dab\n",
    "# #2        abc ef g dab"
   ]
  },
  {
   "cell_type": "code",
   "execution_count": 160,
   "id": "5c1ad5b5",
   "metadata": {},
   "outputs": [
    {
     "name": "stdout",
     "output_type": "stream",
     "text": [
      "Key Length = 9\n"
     ]
    },
    {
     "data": {
      "text/plain": [
       "9"
      ]
     },
     "execution_count": 160,
     "metadata": {},
     "output_type": "execute_result"
    }
   ],
   "source": [
    "cipher_processed = ProcessFile('ciphertext.txt','file')\n",
    "\n",
    "#Finds the length of a Vignere cipher key.\n",
    "def find_key_length(input) :\n",
    "    repeat_max = [0, []] #format of repeat_max = [<highest number of repeats>, <list of said repeats>]\n",
    "\n",
    "    for i in find_rep(input,5) :\n",
    "        if len(i)>repeat_max[0] :\n",
    "            repeat_max[0] = len(i)\n",
    "            repeat_max[1] = i\n",
    "\n",
    "    #print(f'max={repeat_max}')\n",
    "\n",
    "    #TODO: Find the difference between the last number, and the previous\n",
    "\n",
    "    differences = [-1] * (len(repeat_max[1])-1)\n",
    "    i=0\n",
    "    while i<len(differences) :\n",
    "        differences[i] = repeat_max[1][i+1]-repeat_max[1][i]\n",
    "        i+=1\n",
    "\n",
    "    #print(f'post_diff={differences}')\n",
    "    key_length = gcd(*differences)\n",
    "    print(f'Key Length = {key_length}')\n",
    "\n",
    "    return key_length\n",
    "\n",
    "find_key_length(cipher_processed)\n",
    "\n",
    "#selected = [806, 1067, 1742, 2111, 2309, 2453, 2579, 3038, 3110]\n",
    "#              261,  675,  369,  198,  144,  126,  459,  72,\n",
    "\n",
    "#gcd(*[261, 675, 369, 198, 144, 126, 459, 72])"
   ]
  },
  {
   "cell_type": "code",
   "execution_count": 49,
   "id": "a2abeecf",
   "metadata": {},
   "outputs": [
    {
     "name": "stdout",
     "output_type": "stream",
     "text": [
      "Key Length = 9\n",
      "[['f', 's', 'y', 'f', 'v', 'm', 'b', 'p', 'e', 'm', 'm', 'n', 'n', 'r', 'e', 'm', 'r', 'r', 'a', 'o', 'v', 'u', 'o', 'k', 'k', 'q', 'f', 'e', 'a', 'e', 'i', 'p', 'i', 'u', 'm', 'a', 'v', 'o', 'r', 'r', 'm', 'm', 'g', 'm', 'k', 'm', 'm', 'y', 'n', 'y', ' ', 'm', 'm', 'u', 'z', 'r', 'd', 'q', 'r', 'f', 'q', 'q', 'e', 'd', ' ', ' ', 'n', 'm', 'r', 'm', 'e', 'r', 'y', 'f', 'a', 'r', 'r', 'm', 'r', 'm', 'v', 'e', ' ', 't', 'v', 's', 'p', 'u', 'm', 'r', 'u', ' ', 'u', 'd', 'm', 'v', 'a', 'd', 'm', 'q', 'n', 'f', 'a', 'o', 'v', 'e', ' ', 'n', 'm', 'm', 'm', 'r', 'd', 'm', 'q', 'f', 'f', 'm', 'i', 'u', 'o', 'k', 'i', 'y', 'q', 'v', 'n', 'n', 'm', 'f', 'y', 'u', 'f', 'f', 'g', 'a', 'm', 'k', 'm', 'k', ' ', 'x', 'i', 'p', 't', 'm', 'm', 'x', 'o', 'v', 'h', 'f', 'r', 'm', ' ', 'u', 'r', 'm', 'm', 'g', 'a', 'v', ' ', 'r', 'v', 'h', 'm', 'r', 'm', 'e', 'e', 'r', 'v', 'h', 'm', 'e', 'i', 'q', 'a', 'r', 'i', 'a', 'a', 'r', 'r', 'd', 'm', 'm', 'n', 'k', 's', 'v', 'r', 'e', 'u', 'r', 'f', 'n', 'm', 'm', 'a', 'a', 'e', ' ', 'u', 'm', ' ', 'f', 'r', 'v', 'v', 'o', 'n', 'd', 'a', 'r', 'n', 'e', 'r', 'n', 'r', 'e', 'v', 'n', 'f', 'm', 'd', 'v', 'm', 'f', 'v', 'n', 't', 'n', ' ', 'u', 'v', 'm', 'a', 'm', 'v', 't', 'b', 'r', 'f', 'd', 'j', 'y', 't', 'g', 'm', 'v', 'd', 'v', 'e', 'q', 'r', 'u', 'n', 'm', 'p', 'y', 'v', 'n', ' ', 'v', ' ', 'h', 'p', 'm', 'm', 'q', 'r', 'u', 'b', 'a', 'n', 'f', 'v', 'a', 'r', 'e', 'm', 'm', 'o', 'h', 's', 'u', 'd', 't', 's', 'o', 'a', 'u', 'x', 'm', 'm', 'r', 'n', 'e', 'f', 'm', 'v', 'm', 'o', 'v', 'j', 'r', 'z', 'q', 'n', 'g', 'v', 'd', 'p', 'k', 'v', 'd', 'm', 'p', 'n', 'r', 'd', 'r', 'r', 'r', ' ', 'd', 'v', 'v', 'e', 'a', 'r', 'm', 's', 'e', ' ', 'm', 'u', 'm', 'r', 'f', 'n', 'a', 'r', 'o', 'u', 'f', 'r', 'v', 'v', 'v', 'z', 'v', 'f', 'q', 'z', 'i', 's', 'r', 'r', 'r', 'p', 'f', 'r', 'u', 'i', 'a', 'r', 'u', 'd', 'r', 'u', 'b', 'n', 'm', 'z', 'p', 'm', 'n', 'a', 'm', 'd'], ['q', 'r', 'i', 'n', 'y', 'j', 'q', 'r', 'i', 'k', 'j', ' ', ' ', 'w', 'n', 'c', 'b', ' ', 'i', 'n', 'y', 'j', 'n', 'a', 'i', 'i', 'a', 'n', ' ', 'e', 'n', 'j', ' ', 'n', 'x', ' ', 'w', 'n', 'i', 'f', 's', 'b', 'a', 'e', 'p', 'r', 'b', 'j', 'i', 'i', 'b', 'd', 'l', 'n', 'r', ' ', 'i', 'i', 'a', 'q', 'i', 'r', 'g', 'i', 'p', 'i', 'u', 'r', 'w', 'a', 'n', 'w', 'r', 'g', 'u', 'b', ' ', 'j', 'g', 'k', 'b', 'i', 'i', 'r', 'w', 'x', 'x', 'n', 'x', 'i', 'n', 'x', 'n', 'n', 'q', 'a', 'w', 'r', 'm', 'i', 'w', 'j', 'i', 'x', 'o', 'r', 'i', 'i', 'q', 'c', 'b', 'l', 'r', 'k', 'i', 'r', 'n', 't', 'r', 'n', 'n', 'i', 'q', 'k', 'i', 'c', 'i', 'b', 'a', 'r', 'j', 'n', 'i', 'n', 'k', 'w', 'k', 'i', 'a', 'i', 'p', 'n', 'n', 'j', 'u', 'x', 'y', 'w', 'x', 'n', 'j', ' ', 'm', 'k', 'p', 'n', 'i', 'a', 'b', 'r', 'w', 'b', 'u', 'g', 'a', 'n', 'b', 'i', 't', 'n', 'i', 'd', 'd', 'n', 'k', 'i', 'j', 'n', ' ', 'i', 'n', 'y', 'i', ' ', ' ', 'i', 'a', 'm', 'd', 'i', 'n', 'o', ' ', 'j', 'n', 'd', 'n', 'm', 'b', 'a', ' ', 'o', 'i', 'r', 'i', 'b', 'b', 'q', ' ', 'j', 'p', 'n', 'a', 'r', 'i', 'i', 'q', 'i', 'i', 't', 'w', 'i', 'k', 'g', 'i', 'q', 'n', 'v', 'l', 'r', 'w', 'v', ' ', 'w', 'b', 'n', 'v', 'q', 'b', 'm', 'b', 'n', 'q', 'm', 'j', 'i', 'l', 'u', 'i', 'b', 'v', 'l', 'u', 'm', 'x', 'i', 'w', 'n', 't', 'q', 'u', 'y', 'y', 'i', 'i', 'w', 'n', 'n', 'r', 'j', 'm', 'i', 'w', 'n', 'x', 'o', 'b', 'i', 'x', 'b', 'm', 'i', 'r', 'b', ' ', 'j', 'i', 'n', 'u', 'q', 'b', 'c', 'b', 'i', 'i', 'n', 'k', 'i', 'w', 'q', 'n', 'r', 'w', 'l', 'c', 'w', 'b', 'w', 'n', 'i', 'u', 'u', 'x', 'n', 'r', 'y', 'l', 'c', 'j', 'c', 'r', 'i', 'v', 'w', 'w', 'w', 'n', 'b', 'p', 'y', 'r', 'c', 'i', 'l', 'i', 'n', 's', 'e', 'n', 'b', 'm', 'j', 'v', ' ', 'i', ' ', 'n', 'x', 'w', 'p', 'y', 'w', 'n', 'd', 'q', 'n', 'n', 'n', ' ', 'b', 'i', 'p', ' ', 'a', 'a', 'x', 'j', 'w', 'i', 'r', 'r', 'm', ' ', 'q', 'w', 'k', 'y', 'b', 'j', ' ', 'i', 'l', 'r'], ['s', 'e', 'r', 'r', 'g', 'n', 'o', 'c', 'p', 'o', 'z', 'b', 'n', 'n', 'i', 'f', 'o', 'n', 'f', 'g', 'v', 'p', 'e', 'g', 'f', 'o', 'n', 'i', 'r', 'w', 'e', 'g', 'w', 'n', 't', 'e', 'u', 'g', 'q', 'g', 'b', 'e', 'n', 'b', 'e', 'a', 'v', 'n', 'q', 'q', 'n', 'w', 'w', 'n', 'h', 'n', 'c', 'o', 'f', 's', 'o', 'q', 'f', 'f', 'n', 'q', 'c', 'a', 'n', 'w', 'n', 's', 'f', 'c', 'l', 'w', 'n', 'a', 'n', 's', 'f', 'p', 'g', 'a', 'g', 'e', 'h', 'a', 't', 'g', 'e', 'j', 'n', 'n', 'b', 'n', 'n', 'u', 's', 'p', 'n', 'n', 'w', 'b', 'e', 'u', 'p', 'p', 's', 'c', 'o', 'g', 'g', 'h', 'o', 'a', 'e', 's', 'g', 'e', 'g', 'z', 's', 's', 'g', 'f', 't', 'g', 'h', 'b', 'f', ' ', 'g', 'e', 'f', 'f', 's', 'q', 'w', 'f', 'n', 'l', 'e', 'z', 's', 'e', 'v', 'b', 'g', 'f', 'a', 'o', 'n', 'o', 'n', 'n', 'p', 'n', 'v', 'e', 'u', 'l', 'l', 'n', 'n', 'z', 'b', 'o', 's', 'n', 'p', 'w', 'o', 'e', 's', 'f', 'f', 'e', 's', 'a', 'i', 'c', 'g', 'a', 's', 'p', 'n', 'w', 's', 'f', 'e', 'g', 's', 'e', 'e', 's', 'e', 'n', 'v', 'v', 'n', 'n', 'w', 'a', 'q', 'v', 'w', 'w', 'n', 'z', 'a', 'z', 'n', 'p', 'i', 'r', 'a', 'p', 'q', 's', 'g', ' ', 'h', 'w', 'v', 'o', 'r', 'c', 'b', 'b', 'f', 's', 's', 'r', 'o', 'e', 'n', 's', 'v', 'b', 'n', 'a', 's', 'n', 'g', 'p', 's', 'l', 'a', 'v', 'o', 'w', 's', 'u', 'a', 'g', 's', 'e', 'o', 'w', 's', 'v', 'v', 'q', 'f', 's', 'g', 'a', 's', ' ', 's', 'g', 's', 'e', 'f', 'n', 'w', 'e', 'a', 'n', 'n', 'p', 'f', 'b', 'b', 'e', 'g', 'e', 'l', 'g', 'l', 'g', 'n', 'v', 'y', 'a', 'e', 'q', 'r', 's', 'q', 'a', 's', 's', 'g', 'n', 's', 'g', 'n', 'q', 'l', 'r', 'a', 'o', 'c', 'g', 'n', 'z', 'f', 'z', 'r', 'f', 'l', 'n', 'n', 'n', 'g', 'l', 's', 'v', ' ', 'u', 'o', 'w', 'w', 'r', 'h', 'w', 'e', 'v', 's', 'g', 's', 'n', 'h', 'o', 'e', 'n', 'g', 's', 'v', 'u', 'e', 'w', 's', 'e', 'f', 'e', 'b', 'n', 'h', 'h', 'o', 'n', 'n', 'h', 'e', 't', 'z', 'c', 'z', 'n', 's', 'e', 'q', 'z', 'z', 'b', 'f', 'n', 'o', 'b', 'p'], ['e', 'x', 't', 'e', 'n', 'u', 'g', 'm', 'c', 'y', 'g', 'z', 'k', 'x', 'j', 'j', 'q', 'i', 'a', 'a', 'j', 'j', 'y', 'j', 'a', 'q', 'f', 'j', 'x', 'y', 'j', 'j', 'y', 'q', 'e', 'j', 'e', 'e', 'n', 'e', 'm', 'n', 'n', 'w', 'f', ' ', 'j', 'w', 'w', 't', 't', 'l', 'u', 'y', 'x', 'm', 'w', 'e', 'n', 'w', 's', 'y', 'y', 'a', 'g', 'n', 'm', 'e', 'j', 'b', 'i', 'w', 'm', 'j', 'f', 'h', 'h', 'e', 'h', 'h', 'e', 'f', 'm', 'f', 'j', 'j', 'w', 'w', 'e', 'm', 'e', 's', ' ', 'h', 'a', 'g', 'y', 'n', 'x', 'c', 'g', 'g', 's', 'p', 'f', 'e', 'f', 'j', 'e', 't', 'g', 'f', 'm', 'y', 'e', 'l', 'x', 'c', 'h', 'e', 'x', 'j', 'w', 'w', 'w', 'e', 'n', 'j', 'g', 's', 't', 'j', 'm', 's', 'y', 'e', 'e', 'm', 'r', 'j', 'f', 'e', 'j', 'q', 'e', 'e', 'w', 'a', 'm', 'e', 'h', 's', 't', 's', 'a', 'r', 'j', 'r', 'z', 'j', 'e', 'e', 'e', 'f', 'w', 'c', 'e', 'e', 'c', 'x', 'c', 't', 'y', 'x', 'q', 'c', 'e', 'f', 'e', 't', 'j', 't', 'm', 'e', 'e', 'j', 'h', 'i', 'e', 'n', 'j', 'x', 's', 'e', 'x', 'w', 'e', 'm', 'n', 'n', 'u', 'q', 's', 'j', 'j', 'j', 't', 'x', 'j', 'q', 'j', 'q', 'r', 'z', 'n', 'f', 'e', 't', 't', 'w', 'j', 'n', 'y', 's', 'n', 'i', 'e', 't', 's', 's', 'y', 'i', 'x', 'e', 'w', 'e', 'y', 'e', 'n', 'e', 'y', 'j', 'w', 'f', 'n', 'j', 'u', 'e', 't', 't', 'y', 'f', 'x', 'j', 'e', 'm', 'w', 'e', 'g', 'x', 'e', 'f', 'j', 'm', 'e', 'e', 'j', 'y', 's', 'j', 'x', 'm', 'w', 'e', 'x', 'y', 't', 'j', 'e', 'i', 'h', 'f', 'e', 'e', 'p', 'n', 'm', 'e', 'e', 'j', 'e', 'e', 'u', 'n', 'f', 'y', 't', 'n', 'e', 'i', 'm', 'e', 'y', 's', 'e', 'y', 'j', 'z', 'x', 'w', 'x', 'e', 'f', 'p', 'm', 't', 'x', 'j', 'e', 'f', 'e', 'a', 'e', 's', 'k', 'f', 'j', 'e', 's', 'j', 'u', 'm', 'e', 'u', 'y', 'e', 's', 'y', 'e', 'j', 'w', 'j', 'w', 'j', 'x', 'x', 'e', 'n', 'e', 's', 'j', 'e', 'n', 'q', 'e', 'f', 'x', 'j', 'r', 'f', 's', 'q', 'h', 'r', 'y', 'y', 'e', 'j', 'j', 'e', 'c', 'z', 'j', 'f', 'm', 'z', 'j', 'w', 'e', 'h', 'e', 'r', 'z'], ['w', 'u', 'd', 'e', 'p', 'p', 'f', 'f', 'a', 'u', 'f', 'o', 'p', 'j', 'o', 'e', 'a', 'j', 'j', 'f', 's', 'u', 'j', 'n', 'j', 'q', 'g', 's', 'a', 'd', 'a', 'e', 'j', 'f', 'u', 't', 'b', 'j', 'q', 'm', 'b', 'u', 'o', 'l', 'q', 'f', 'a', 'f', 'j', 'n', 'g', 'f', 'i', 's', 'a', 'p', 'p', 'q', 'w', 'a', 'e', 'b', 'f', 'j', 'f', 'q', 'b', 'g', 'j', 'a', 'f', 'f', 'f', 'a', 'm', 'a', 'b', 'b', 'j', 'b', 'l', 't', 'f', 'm', 'y', 'a', 'u', 'z', 'g', 'f', 'o', 'a', 'j', 'j', 'f', 'b', 'i', 'o', 'd', 'a', 'b', 'f', 'a', 'a', 'a', 'h', 'u', 'm', 'c', 'o', 'v', 'a', 'f', 'a', 's', 'a', 'j', 'a', 'i', 'b', 'a', 'u', 'f', 'u', 'j', 'v', 'y', 's', 't', 't', 'a', 'a', 'f', 'a', 'j', 'd', 'f', 'b', 'q', 'm', 'a', 'l', 'a', 'z', 'x', 't', 'b', 'o', 'a', 'j', 'f', 't', 'v', 'e', 'j', 'f', 'm', 'f', 't', 'e', 't', 'g', 'u', 't', 'f', 'a', 't', 't', 'a', 'v', 'a', 'v', 'f', 'b', 'm', 't', 'd', 'c', 't', 'u', 's', 't', 'f', 'w', 'd', 'm', 'j', 'o', 'u', 'y', 'o', 'a', 'u', 't', 'a', 'z', 'j', 'b', 's', 'g', 'b', 'f', 'a', 'u', 'o', 'a', 'o', 'a', 't', 'z', 'e', 'b', 'j', 'u', 'h', 'w', 'j', 'p', 'e', 't', 'e', 't', 'j', 'h', 't', 'a', 'u', 's', 'u', 'a', 'f', 'a', 't', 'f', 'z', 'g', 'i', 'i', 'o', 'x', 'i', 's', 'a', 'a', 'p', 'j', 'u', 't', 'u', 's', 'i', 'o', 'a', 'a', 'd', 'f', 'f', 'v', 'm', 'a', 'u', 'c', 's', 'j', 'n', 'j', 'f', 'f', 'u', 's', 'd', 'f', 'f', 'b', 'j', 's', 'o', 'q', 'x', 'f', 'i', 'c', 'l', 'i', 'f', 'b', 'f', 'b', 'b', 'f', 'g', 'e', 'v', 't', 't', 'j', 'l', 'q', 'q', 'a', 'o', 'u', 'f', 'u', 'f', 'i', 'o', 's', 'l', 'z', 'u', 'p', 'm', 'a', 'f', 'h', 'm', 'a', 'b', 'u', 'c', 'j', 'c', 'j', 'p', 'o', 'f', 'u', 'f', 's', 'm', 'a', 'g', 'i', 'a', 'j', 'd', 'i', 'e', 'a', 'b', 't', 'j', 'y', 'f', 't', 'e', 'n', 'u', 'f', 's', 'u', 'd', 'a', 'd', 'd', 'b', 'a', 'a', 'o', 'j', 'b', 'l', 'f', 'i', 'a', 'u', 'e', 'b', 'q', 'a', 'q', 'a', 't', 'f', 'g', 'u', 'z', 'u', 'b', 'd', 'f', 'u'], ['u', 'p', 'j', 'u', 'c', 'a', 'i', 'g', 'a', 'y', 'g', 't', 'j', 'm', 'p', 'p', 's', 'h', 'i', 'u', 'p', 'h', 'p', 'p', 'i', 'x', 'i', 'q', 'q', 'x', 'y', 'p', 'c', 'i', 'x', 'e', 'a', 'c', 'x', 'q', 'c', 'x', 'p', 'p', 'x', 'c', 'i', 's', 'i', 'e', 'p', 'c', 'u', 'y', 's', 'l', 'k', 'g', 'u', 'g', 'p', 'r', 'b', 'i', 'i', 'x', 'r', 'y', 'w', 'r', 'p', 'p', 't', 'd', 'e', 's', 'a', 'j', 'e', 'j', 'u', 'u', 'p', 'p', 'i', 'i', 'p', 'p', 'g', 'p', 'd', 'q', 'w', 'e', 'k', 'h', 'q', 'q', 'g', 'w', 'i', 'a', 'x', 'a', 't', 'y', 'i', 'a', 'j', 'p', 'a', 'd', 'b', 'q', 'u', 's', 'w', 'i', 'p', 'a', 'u', 'i', 'q', 'y', 'i', 'h', 'u', 'c', 'i', 'p', 'h', 'b', 'p', 'd', 'i', 'd', 'q', 'c', 'a', 'u', 'c', 'u', 'i', 'p', 'd', 'x', 'h', 'p', 'e', 'c', 'p', 'b', 'i', 'p', 'i', 'h', 'a', 'i', 'p', 'p', 'u', 'd', 'x', 'p', 'a', 'u', 'u', 'x', 'e', 's', 'q', 'h', 'p', 'i', 'q', 'i', 'd', 'a', 'u', 'u', 'p', 'u', 'p', 'y', 'y', 'a', 'e', 'p', 'l', 'p', 'i', 't', 'p', 'p', 'v', 'p', 'c', 'k', 'i', 'i', 'y', 'i', 'i', 'u', 'i', 'y', 'p', 's', 'h', 'p', 'p', 'h', 'h', 'u', 'u', 'y', 'c', ' ', 'u', 'p', 'p', 'q', 'd', 'p', 'i', 'y', 'x', 'i', 'g', 'q', 'q', 'q', 'y', 'a', 'p', 'd', 'd', 'q', 'w', 'y', 'u', 'u', 'w', 'g', 'c', 'c', 'y', 'i', 'u', 'p', 'u', 'p', 'a', 't', 'q', 'p', 'p', 'c', 'u', 'q', 'x', 'u', 'p', 'a', 'q', 'c', 'c', 'u', 'y', 'y', 'g', 'p', 'p', 'h', 'r', 'q', 'p', 'j', 'q', 'h', 'q', 'r', 'c', 'q', 'c', 'c', 'p', 'h', 'h', 'c', 'd', 'y', 'r', 'p', 'y', 'g', 'u', 'x', 'j', 'i', 'y', 'x', 'u', 'j', 'k', 'u', 'i', 'n', 'y', 'e', 'h', 's', 'a', 'i', 'g', 'g', 'y', 'j', 'p', 'y', 'n', 'h', 'u', 'c', 'j', 't', 'c', 'x', 'g', 'p', 'u', 'i', 'y', 'u', 'y', 'c', 'i', 'p', 'y', 's', 'i', 'p', 's', 'q', 't', 'p', 'y', 'e', 'x', 'g', 'p', 'x', 'q', 'l', 'd', 'n', 'w', 'v', 'h', 't', 'd', 'g', 'u', 'h', 'g', 'i', 'x', 'u', 't', 'g', 'g', 'd', ' ', 'u', 'h', 'v', 'u', 'p', 'x', 'b', 'a', 'p', 'y'], ['f', 'k', 'a', 'g', 'o', 'm', 'x', 'o', 't', 'g', 'h', 'o', 'f', 'h', 'p', 'p', 'x', 'z', 'r', 'b', 'p', 'o', 'g', 'c', 'r', 'p', 't', ' ', 'b', 't', 'b', 'q', 'v', 'h', 't', 'c', 'd', 'o', 't', 'h', 'b', 't', 'w', 'd', 'x', 'h', 'p', 'h', 'x', 'c', 'h', 'o', 'f', 'h', 'x', 't', 'x', 'c', 'o', 'x', 'd', ' ', 'o', 'r', 'k', 't', 't', 'u', 'w', ' ', 'j', 'd', 'o', 'u', 'w', 'x', ' ', 'h', 'w', 'g', 'm', 's', 'c', 'd', 'o', 'w', 'c', 'x', 'p', 'r', 'k', 'g', 't', 'w', 't', 't', 'h', ' ', 'x', 'x', 'h', ' ', 'x', 'p', 't', 'c', 'x', 'p', 'x', 'h', 'p', 'u', 'x', 's', 'd', 'c', 'b', 'c', 'r', 'd', 'j', 't', 'g', 'o', 'w', 't', 's', 'o', 'x', 'q', 'o', 't', 'd', 'u', 'i', 'i', 'g', 'v', 'm', 'r', 't', 'm', 'm', 'g', 'f', 'c', 't', 'h', 'p', 'o', 'c', 'x', 'o', 'p', 'w', 'g', 'p', 'w', 'f', 'g', 'r', 'f', 't', 'x', 'p', 'p', 'r', 'c', 'w', 'w', 'o', 'o', 'r', 'x', 'g', 't', 'b', 'm', 'r', 'o', 'p', 's', 'a', 'v', 'd', 'p', 'w', 'h', 't', 's', 'o', 'x', 'r', 'r', 'c', ' ', 'g', 'x', 't', 'g', 'f', 'h', 'w', 't', 'i', 'b', 'c', 'x', 't', 's', 'q', 'c', 'p', 's', 'b', 's', 'o', 'o', 'q', ' ', 'h', 'h', 'b', 'h', 'c', 'v', 'x', 'p', 'x', 'b', 's', 'o', 'j', 't', 'r', 'f', 'i', 's', 'o', 'h', 'o', 'o', 'p', 't', 'o', 'v', 'c', 'f', 's', 'p', 'a', 'r', 'i', 'c', ' ', 'j', 'r', 'q', 'o', 'f', 't', 'h', 'x', 's', 'v', 'o', 'o', 'b', 'u', 'r', 'x', 'j', 'r', 'o', ' ', 'b', 'h', 'h', 'g', 't', 'f', 'p', 'c', 'j', 'o', 'h', 'r', 'o', 'o', 'o', 'i', 's', ' ', 'k', 'g', 't', 'o', 't', 'q', 'w', 'e', 't', 'b', 'f', 't', 'o', 'w', 'o', ' ', 'h', 'o', 'r', 'm', 'w', 'o', 'p', 's', 'g', 'r', 'c', 'o', 'g', 'h', 't', 'f', 'o', 'o', 't', 't', 'x', 'o', 'c', 't', 'f', 'g', 'o', 'x', 'r', 'g', 'c', 't', 'c', 'p', 'a', 'o', 'r', 'g', ' ', 't', 't', 's', 't', 'b', 'p', 'b', 'o', 't', 'p', 't', 'o', 'b', ' ', 's', 'g', 'c', 'w', 't', 'f', 't', 'x', 't', 'b', 't', 'g', 'h', 'o', 'o', 'p', 't', 't', 'c', 'f', 'c'], ['j', 'q', 'q', 'o', ' ', 'm', 'o', 'h', ' ', 'e', 'u', 'j', 'e', 'j', 'z', 'l', 'a', 'l', 't', 'l', 'x', 'm', 'l', 'z', 't', 'n', 'c', 'l', 'p', 'd', 'p', 'j', 'l', 'q', 'l', 'z', 't', 'e', 'c', 'q', 'q', 'y', 'u', ' ', 'm', 'q', 'n', 'm', 'o', 'z', 't', 'c', 'l', 't', 'a', 'g', 'p', 's', 'c', 's', 'c', 'q', 'r', 't', 'q', 'c', 'e', 'e', 'e', 'm', 'u', 'f', 'm', 'l', 'm', 'a', 'q', ' ', 'q', 'q', 'l', 'l', 'c', 'x', 'n', 'q', 'r', 'u', 'z', 'u', 'l', 'l', 'z', 'q', 'c', 'p', 'l', 'x', 'n', ' ', 'u', 'm', 'd', 'l', 'x', 'g', 'd', 'd', 'x', 't', 'l', 'l', 'f', 'p', 'q', 'f', 'l', 'l', 'u', 't', 'q', 'c', 'l', 'm', 'q', 'p', 'l', ' ', 'e', 'q', 'd', 'm', 'm', 'l', 'e', 'x', 'u', 'q', 'l', 'e', 'h', 'd', 'a', 'u', 'p', 'c', 'd', ' ', 'c', 'm', 'c', 'e', ' ', 'x', 'l', 'm', 'd', ' ', 'q', 'e', 'f', 'l', 'l', 'e', 'e', 'd', 'f', 'c', 'c', 'l', 'a', 'a', ' ', ' ', ' ', 'y', 'd', 'l', 'f', 't', 'd', 'l', ' ', 'q', 't', 'd', 'q', 'l', 'z', 'u', 'd', 'r', 'm', 'u', 'c', 'q', 'e', 'z', 'q', 'l', 'd', 'q', 'q', 'z', 'c', 'g', 'r', 'a', 'z', 'q', 'j', 'l', 'e', 'l', 'q', 'l', 't', 'e', 'c', 'm', 't', 'e', 'l', 't', 'c', 'z', 'd', 'z', 'n', 'p', 'l', 'c', 'q', 'y', 'u', 'l', 's', 'l', 'e', 't', 'g', 'o', 'u', 'a', 'r', 'l', 'z', ' ', 'l', 'z', 'm', 't', 'e', 'p', 'x', 'u', 'u', 'c', 'u', 'e', 'l', 'l', 'z', 'c', 'm', 'z', 'd', 'l', 'u', 'm', 'n', 'u', 'u', 'u', 'q', 'd', 't', 'm', 'l', 'c', 'x', 's', 'h', 'q', 'm', 'l', 'u', 'q', 'q', 'r', 'c', 'l', 'u', ' ', 'w', 'x', 'e', 'c', 'x', 'q', 'f', 'l', 'e', 'j', 'z', 'd', 'l', 'd', 'x', 'm', 'o', 'm', 'l', 'q', 'o', 'a', 'q', 'q', 'm', 'z', 'e', 'l', 'h', 'e', 'e', 'z', 'r', 'l', 'l', 'd', 'q', 'l', 'x', 'l', 'l', 'o', ' ', 'u', 'w', 'z', 'l', 'r', 'l', 'a', 'm', 'u', 'w', 'q', 'l', 'l', 'f', 'l', 'l', 'c', 'r', 'd', 'd', 'c', 'o', 'e', 'l', 'j', 'l', 'm', 'f', 'q', 'l', 'm', 'c', 'y', 'x', 'l', 'j', 'l', 'q', 'o', 'g', 'z', 'l', 'l', 'd', 'q', 'z'], ['s', 'd', 'f', 'j', 'y', 'd', 's', 't', 'f', 't', 's', 'x', 'x', 's', 'w', 'e', ' ', 'l', 's', 'v', 'h', 'd', 'k', 'd', 'x', 'x', 's', 'o', 's', 's', 'a', 's', 'l', 'j', 'v', 'w', 't', ' ', 'l', 'j', 'k', 'a', 'k', 'd', 'x', 'w', 'm', 's', 't', 'x', 'x', 'x', 'l', 'x', ' ', 'x', 'x', 'j', 't', 'a', 'x', 's', 'g', 'a', 'x', 's', 'k', 'x', 'q', 'a', 'z', 'u', 's', 'h', 'u', ' ', 'w', 'c', 'j', 's', 'a', 'g', 'a', 't', 'x', 's', 's', 'a', 'v', 'h', 'c', 'l', 'x', 'j', 's', 's', 'g', 'q', 'x', 'n', 'k', 'k', 's', 'v', 's', 't', 'l', 'g', 'l', 'x', 'j', 'l', 'k', 'x', 't', 'f', 't', 'k', 'h', 't', 'j', 's', 't', 'f', 'e', 's', 'h', 'y', 'm', 'd', 'v', 'f', 'l', 'k', 'a', 'w', 'd', 'w', 'u', 'a', 's', 's', 'a', 'f', 'k', 'l', 's', 's', 'l', 'w', 's', 'l', 'y', 'g', 'l', 'z', 'g', 'w', 'i', 'j', 'j', 'g', 'c', 's', 'a', 'q', 'j', 'l', 't', 't', 'j', 'j', 'f', 'f', 's', 's', 'a', 'e', 'j', 'g', 's', 'l', 'w', 'f', 'x', 'g', 'j', ' ', 'l', 'y', ' ', 'y', 'x', 'h', 's', 'l', 'x', 'z', 'f', 'y', 's', 'j', 's', 'l', 'q', 'x', 's', ' ', 'l', 'k', 's', 'o', 'l', 'l', 'j', 'c', 'a', ' ', 'x', 'e', 'a', 'j', 'k', 't', 'q', 'g', 's', 'l', 'm', 's', 'f', 'x', 's', 'x', 'h', ' ', ' ', 'f', 'g', 's', 'a', 'a', 'f', 'm', 'g', 'x', 't', 'f', 't', 'w', 'l', 't', 'o', 'z', 'x', 'z', 'h', 'x', 'f', 'a', 't', 'v', 's', 'x', 'r', 'a', 'x', 'k', 'v', 'f', 'x', 'z', 'h', 'e', 's', 'd', 't', 'l', 'f', 'n', 'x', 'x', 'f', 's', 's', 'g', 'h', 't', 'f', 'a', 's', 'f', 'k', 'j', 'a', 'q', ' ', 's', 'a', 's', 'x', 'f', ' ', 's', 's', 'a', 'v', 'g', 'x', 'f', 'g', 'k', 'u', 's', 'j', ' ', 's', 'w', 'd', 's', ' ', 't', 'x', 'x', 'x', 'a', 'g', 'n', 'v', 's', 'f', 'u', 'w', 'a', 'm', 'g', 'f', 'h', 'k', 'y', 'k', 's', 'y', 'd', 's', 'h', 's', 'e', 'n', 'v', 'j', 't', 'v', 's', 'x', 's', 's', 's', 'j', ' ', 'j', 's', 'a', 'z', 'z', 's', 'v', 'l', 'k', 't', 'a', 'l', 's', 'e', 'j', 'g', 'a', 'w', 'o', 'l', 'x', 'l', 'z']]\n"
     ]
    }
   ],
   "source": [
    "#Gather plaintext letters that are \"added (mod 7)\" by the same key letter.\n",
    "#e.g. create: [ \n",
    "#               [1*key_length+0,            2*key_length+0,             ..., num_keys*key_length+0], \n",
    "#               [1*key_length+1,            2*key_length+1,             ..., num_keys*key_length+1],\n",
    "#               [1*key_length+(key_length), 2*key_length+(key_length),  ..., num_keys*key_length+(key_length)] \n",
    "#             ]\n",
    "#this would look like: [[1, 10, 19, 28...], [2, 11, 20, 29, ...]]\n",
    "\n",
    "key_length = find_key_length(cipher_processed)\n",
    "num_keys = (len(cipher_processed)//key_length)+1\n",
    "sorted_numbers = [[] * num_keys] * (key_length) # The array that will house the \"sets\" of letters as shown above.\n",
    "#print(f'sorted_numbers={sorted_numbers}')\n",
    "\n",
    "for n in range(0, key_length) :\n",
    "    temp = [-1] * num_keys\n",
    "    for key in range(0, num_keys) :\n",
    "        #print(f'key={key}')\n",
    "        #print(f'n={n}')\n",
    "        value = ((key*key_length)+n)\n",
    "        if value < len(cipher_processed) :\n",
    "            temp[key] = value\n",
    "        else :\n",
    "            break\n",
    "        #print(f'temp={temp}')\n",
    "        sorted_numbers[n] = temp\n",
    "    #print(sorted_numbers)\n",
    "    #print(f'n={n}')\n",
    "    #print(f'sorted_numbers[{n}]={sorted_numbers[n]}')\n",
    "\n",
    "cipher_processed_str = ''.join(cipher_processed)\n",
    "\n",
    "cipher_processed[3445]\n",
    "\n",
    "i=0\n",
    "sorted_letters = [[] * num_keys] * (key_length)\n",
    "for b in sorted_numbers :\n",
    "    sorted_letters\n",
    "    j=0\n",
    "    temp = []\n",
    "    for letter in b :\n",
    "        temp.append(cipher_processed[letter])\n",
    "    sorted_letters[i] = temp\n",
    "    i+=1\n",
    "\n",
    "print(sorted_letters)\n",
    "\n",
    "# print(len(cipher_processed))\n",
    "\n",
    "#TODO:  (1) Make that previous section have better named variables. DONE\n",
    "#       (2) Use the values in each section to grab the equivalent letter from cipher_processed. DONE\n",
    "#       (3) Do frequency analysis on just those letters\n",
    "#       (4) Compare that to the frequency of the english language\n",
    "#       (5) Decode each encoded letter\n",
    "#       (6) Recombine the decoded letters into the original text."
   ]
  },
  {
   "cell_type": "code",
   "execution_count": 50,
   "id": "4ca9540b",
   "metadata": {},
   "outputs": [
    {
     "name": "stdout",
     "output_type": "stream",
     "text": [
      "sorted_letters[0]=['f', 's', 'y', 'f', 'v', 'm', 'b', 'p', 'e', 'm', 'm', 'n', 'n', 'r', 'e', 'm', 'r', 'r', 'a', 'o', 'v', 'u', 'o', 'k', 'k', 'q', 'f', 'e', 'a', 'e', 'i', 'p', 'i', 'u', 'm', 'a', 'v', 'o', 'r', 'r', 'm', 'm', 'g', 'm', 'k', 'm', 'm', 'y', 'n', 'y', ' ', 'm', 'm', 'u', 'z', 'r', 'd', 'q', 'r', 'f', 'q', 'q', 'e', 'd', ' ', ' ', 'n', 'm', 'r', 'm', 'e', 'r', 'y', 'f', 'a', 'r', 'r', 'm', 'r', 'm', 'v', 'e', ' ', 't', 'v', 's', 'p', 'u', 'm', 'r', 'u', ' ', 'u', 'd', 'm', 'v', 'a', 'd', 'm', 'q', 'n', 'f', 'a', 'o', 'v', 'e', ' ', 'n', 'm', 'm', 'm', 'r', 'd', 'm', 'q', 'f', 'f', 'm', 'i', 'u', 'o', 'k', 'i', 'y', 'q', 'v', 'n', 'n', 'm', 'f', 'y', 'u', 'f', 'f', 'g', 'a', 'm', 'k', 'm', 'k', ' ', 'x', 'i', 'p', 't', 'm', 'm', 'x', 'o', 'v', 'h', 'f', 'r', 'm', ' ', 'u', 'r', 'm', 'm', 'g', 'a', 'v', ' ', 'r', 'v', 'h', 'm', 'r', 'm', 'e', 'e', 'r', 'v', 'h', 'm', 'e', 'i', 'q', 'a', 'r', 'i', 'a', 'a', 'r', 'r', 'd', 'm', 'm', 'n', 'k', 's', 'v', 'r', 'e', 'u', 'r', 'f', 'n', 'm', 'm', 'a', 'a', 'e', ' ', 'u', 'm', ' ', 'f', 'r', 'v', 'v', 'o', 'n', 'd', 'a', 'r', 'n', 'e', 'r', 'n', 'r', 'e', 'v', 'n', 'f', 'm', 'd', 'v', 'm', 'f', 'v', 'n', 't', 'n', ' ', 'u', 'v', 'm', 'a', 'm', 'v', 't', 'b', 'r', 'f', 'd', 'j', 'y', 't', 'g', 'm', 'v', 'd', 'v', 'e', 'q', 'r', 'u', 'n', 'm', 'p', 'y', 'v', 'n', ' ', 'v', ' ', 'h', 'p', 'm', 'm', 'q', 'r', 'u', 'b', 'a', 'n', 'f', 'v', 'a', 'r', 'e', 'm', 'm', 'o', 'h', 's', 'u', 'd', 't', 's', 'o', 'a', 'u', 'x', 'm', 'm', 'r', 'n', 'e', 'f', 'm', 'v', 'm', 'o', 'v', 'j', 'r', 'z', 'q', 'n', 'g', 'v', 'd', 'p', 'k', 'v', 'd', 'm', 'p', 'n', 'r', 'd', 'r', 'r', 'r', ' ', 'd', 'v', 'v', 'e', 'a', 'r', 'm', 's', 'e', ' ', 'm', 'u', 'm', 'r', 'f', 'n', 'a', 'r', 'o', 'u', 'f', 'r', 'v', 'v', 'v', 'z', 'v', 'f', 'q', 'z', 'i', 's', 'r', 'r', 'r', 'p', 'f', 'r', 'u', 'i', 'a', 'r', 'u', 'd', 'r', 'u', 'b', 'n', 'm', 'z', 'p', 'm', 'n', 'a', 'm', 'd']\n",
      "sorted_letters[1]=['q', 'r', 'i', 'n', 'y', 'j', 'q', 'r', 'i', 'k', 'j', ' ', ' ', 'w', 'n', 'c', 'b', ' ', 'i', 'n', 'y', 'j', 'n', 'a', 'i', 'i', 'a', 'n', ' ', 'e', 'n', 'j', ' ', 'n', 'x', ' ', 'w', 'n', 'i', 'f', 's', 'b', 'a', 'e', 'p', 'r', 'b', 'j', 'i', 'i', 'b', 'd', 'l', 'n', 'r', ' ', 'i', 'i', 'a', 'q', 'i', 'r', 'g', 'i', 'p', 'i', 'u', 'r', 'w', 'a', 'n', 'w', 'r', 'g', 'u', 'b', ' ', 'j', 'g', 'k', 'b', 'i', 'i', 'r', 'w', 'x', 'x', 'n', 'x', 'i', 'n', 'x', 'n', 'n', 'q', 'a', 'w', 'r', 'm', 'i', 'w', 'j', 'i', 'x', 'o', 'r', 'i', 'i', 'q', 'c', 'b', 'l', 'r', 'k', 'i', 'r', 'n', 't', 'r', 'n', 'n', 'i', 'q', 'k', 'i', 'c', 'i', 'b', 'a', 'r', 'j', 'n', 'i', 'n', 'k', 'w', 'k', 'i', 'a', 'i', 'p', 'n', 'n', 'j', 'u', 'x', 'y', 'w', 'x', 'n', 'j', ' ', 'm', 'k', 'p', 'n', 'i', 'a', 'b', 'r', 'w', 'b', 'u', 'g', 'a', 'n', 'b', 'i', 't', 'n', 'i', 'd', 'd', 'n', 'k', 'i', 'j', 'n', ' ', 'i', 'n', 'y', 'i', ' ', ' ', 'i', 'a', 'm', 'd', 'i', 'n', 'o', ' ', 'j', 'n', 'd', 'n', 'm', 'b', 'a', ' ', 'o', 'i', 'r', 'i', 'b', 'b', 'q', ' ', 'j', 'p', 'n', 'a', 'r', 'i', 'i', 'q', 'i', 'i', 't', 'w', 'i', 'k', 'g', 'i', 'q', 'n', 'v', 'l', 'r', 'w', 'v', ' ', 'w', 'b', 'n', 'v', 'q', 'b', 'm', 'b', 'n', 'q', 'm', 'j', 'i', 'l', 'u', 'i', 'b', 'v', 'l', 'u', 'm', 'x', 'i', 'w', 'n', 't', 'q', 'u', 'y', 'y', 'i', 'i', 'w', 'n', 'n', 'r', 'j', 'm', 'i', 'w', 'n', 'x', 'o', 'b', 'i', 'x', 'b', 'm', 'i', 'r', 'b', ' ', 'j', 'i', 'n', 'u', 'q', 'b', 'c', 'b', 'i', 'i', 'n', 'k', 'i', 'w', 'q', 'n', 'r', 'w', 'l', 'c', 'w', 'b', 'w', 'n', 'i', 'u', 'u', 'x', 'n', 'r', 'y', 'l', 'c', 'j', 'c', 'r', 'i', 'v', 'w', 'w', 'w', 'n', 'b', 'p', 'y', 'r', 'c', 'i', 'l', 'i', 'n', 's', 'e', 'n', 'b', 'm', 'j', 'v', ' ', 'i', ' ', 'n', 'x', 'w', 'p', 'y', 'w', 'n', 'd', 'q', 'n', 'n', 'n', ' ', 'b', 'i', 'p', ' ', 'a', 'a', 'x', 'j', 'w', 'i', 'r', 'r', 'm', ' ', 'q', 'w', 'k', 'y', 'b', 'j', ' ', 'i', 'l', 'r']\n",
      "sorted_letters[2]=['s', 'e', 'r', 'r', 'g', 'n', 'o', 'c', 'p', 'o', 'z', 'b', 'n', 'n', 'i', 'f', 'o', 'n', 'f', 'g', 'v', 'p', 'e', 'g', 'f', 'o', 'n', 'i', 'r', 'w', 'e', 'g', 'w', 'n', 't', 'e', 'u', 'g', 'q', 'g', 'b', 'e', 'n', 'b', 'e', 'a', 'v', 'n', 'q', 'q', 'n', 'w', 'w', 'n', 'h', 'n', 'c', 'o', 'f', 's', 'o', 'q', 'f', 'f', 'n', 'q', 'c', 'a', 'n', 'w', 'n', 's', 'f', 'c', 'l', 'w', 'n', 'a', 'n', 's', 'f', 'p', 'g', 'a', 'g', 'e', 'h', 'a', 't', 'g', 'e', 'j', 'n', 'n', 'b', 'n', 'n', 'u', 's', 'p', 'n', 'n', 'w', 'b', 'e', 'u', 'p', 'p', 's', 'c', 'o', 'g', 'g', 'h', 'o', 'a', 'e', 's', 'g', 'e', 'g', 'z', 's', 's', 'g', 'f', 't', 'g', 'h', 'b', 'f', ' ', 'g', 'e', 'f', 'f', 's', 'q', 'w', 'f', 'n', 'l', 'e', 'z', 's', 'e', 'v', 'b', 'g', 'f', 'a', 'o', 'n', 'o', 'n', 'n', 'p', 'n', 'v', 'e', 'u', 'l', 'l', 'n', 'n', 'z', 'b', 'o', 's', 'n', 'p', 'w', 'o', 'e', 's', 'f', 'f', 'e', 's', 'a', 'i', 'c', 'g', 'a', 's', 'p', 'n', 'w', 's', 'f', 'e', 'g', 's', 'e', 'e', 's', 'e', 'n', 'v', 'v', 'n', 'n', 'w', 'a', 'q', 'v', 'w', 'w', 'n', 'z', 'a', 'z', 'n', 'p', 'i', 'r', 'a', 'p', 'q', 's', 'g', ' ', 'h', 'w', 'v', 'o', 'r', 'c', 'b', 'b', 'f', 's', 's', 'r', 'o', 'e', 'n', 's', 'v', 'b', 'n', 'a', 's', 'n', 'g', 'p', 's', 'l', 'a', 'v', 'o', 'w', 's', 'u', 'a', 'g', 's', 'e', 'o', 'w', 's', 'v', 'v', 'q', 'f', 's', 'g', 'a', 's', ' ', 's', 'g', 's', 'e', 'f', 'n', 'w', 'e', 'a', 'n', 'n', 'p', 'f', 'b', 'b', 'e', 'g', 'e', 'l', 'g', 'l', 'g', 'n', 'v', 'y', 'a', 'e', 'q', 'r', 's', 'q', 'a', 's', 's', 'g', 'n', 's', 'g', 'n', 'q', 'l', 'r', 'a', 'o', 'c', 'g', 'n', 'z', 'f', 'z', 'r', 'f', 'l', 'n', 'n', 'n', 'g', 'l', 's', 'v', ' ', 'u', 'o', 'w', 'w', 'r', 'h', 'w', 'e', 'v', 's', 'g', 's', 'n', 'h', 'o', 'e', 'n', 'g', 's', 'v', 'u', 'e', 'w', 's', 'e', 'f', 'e', 'b', 'n', 'h', 'h', 'o', 'n', 'n', 'h', 'e', 't', 'z', 'c', 'z', 'n', 's', 'e', 'q', 'z', 'z', 'b', 'f', 'n', 'o', 'b', 'p']\n",
      "sorted_letters[3]=['e', 'x', 't', 'e', 'n', 'u', 'g', 'm', 'c', 'y', 'g', 'z', 'k', 'x', 'j', 'j', 'q', 'i', 'a', 'a', 'j', 'j', 'y', 'j', 'a', 'q', 'f', 'j', 'x', 'y', 'j', 'j', 'y', 'q', 'e', 'j', 'e', 'e', 'n', 'e', 'm', 'n', 'n', 'w', 'f', ' ', 'j', 'w', 'w', 't', 't', 'l', 'u', 'y', 'x', 'm', 'w', 'e', 'n', 'w', 's', 'y', 'y', 'a', 'g', 'n', 'm', 'e', 'j', 'b', 'i', 'w', 'm', 'j', 'f', 'h', 'h', 'e', 'h', 'h', 'e', 'f', 'm', 'f', 'j', 'j', 'w', 'w', 'e', 'm', 'e', 's', ' ', 'h', 'a', 'g', 'y', 'n', 'x', 'c', 'g', 'g', 's', 'p', 'f', 'e', 'f', 'j', 'e', 't', 'g', 'f', 'm', 'y', 'e', 'l', 'x', 'c', 'h', 'e', 'x', 'j', 'w', 'w', 'w', 'e', 'n', 'j', 'g', 's', 't', 'j', 'm', 's', 'y', 'e', 'e', 'm', 'r', 'j', 'f', 'e', 'j', 'q', 'e', 'e', 'w', 'a', 'm', 'e', 'h', 's', 't', 's', 'a', 'r', 'j', 'r', 'z', 'j', 'e', 'e', 'e', 'f', 'w', 'c', 'e', 'e', 'c', 'x', 'c', 't', 'y', 'x', 'q', 'c', 'e', 'f', 'e', 't', 'j', 't', 'm', 'e', 'e', 'j', 'h', 'i', 'e', 'n', 'j', 'x', 's', 'e', 'x', 'w', 'e', 'm', 'n', 'n', 'u', 'q', 's', 'j', 'j', 'j', 't', 'x', 'j', 'q', 'j', 'q', 'r', 'z', 'n', 'f', 'e', 't', 't', 'w', 'j', 'n', 'y', 's', 'n', 'i', 'e', 't', 's', 's', 'y', 'i', 'x', 'e', 'w', 'e', 'y', 'e', 'n', 'e', 'y', 'j', 'w', 'f', 'n', 'j', 'u', 'e', 't', 't', 'y', 'f', 'x', 'j', 'e', 'm', 'w', 'e', 'g', 'x', 'e', 'f', 'j', 'm', 'e', 'e', 'j', 'y', 's', 'j', 'x', 'm', 'w', 'e', 'x', 'y', 't', 'j', 'e', 'i', 'h', 'f', 'e', 'e', 'p', 'n', 'm', 'e', 'e', 'j', 'e', 'e', 'u', 'n', 'f', 'y', 't', 'n', 'e', 'i', 'm', 'e', 'y', 's', 'e', 'y', 'j', 'z', 'x', 'w', 'x', 'e', 'f', 'p', 'm', 't', 'x', 'j', 'e', 'f', 'e', 'a', 'e', 's', 'k', 'f', 'j', 'e', 's', 'j', 'u', 'm', 'e', 'u', 'y', 'e', 's', 'y', 'e', 'j', 'w', 'j', 'w', 'j', 'x', 'x', 'e', 'n', 'e', 's', 'j', 'e', 'n', 'q', 'e', 'f', 'x', 'j', 'r', 'f', 's', 'q', 'h', 'r', 'y', 'y', 'e', 'j', 'j', 'e', 'c', 'z', 'j', 'f', 'm', 'z', 'j', 'w', 'e', 'h', 'e', 'r', 'z']\n",
      "sorted_letters[4]=['w', 'u', 'd', 'e', 'p', 'p', 'f', 'f', 'a', 'u', 'f', 'o', 'p', 'j', 'o', 'e', 'a', 'j', 'j', 'f', 's', 'u', 'j', 'n', 'j', 'q', 'g', 's', 'a', 'd', 'a', 'e', 'j', 'f', 'u', 't', 'b', 'j', 'q', 'm', 'b', 'u', 'o', 'l', 'q', 'f', 'a', 'f', 'j', 'n', 'g', 'f', 'i', 's', 'a', 'p', 'p', 'q', 'w', 'a', 'e', 'b', 'f', 'j', 'f', 'q', 'b', 'g', 'j', 'a', 'f', 'f', 'f', 'a', 'm', 'a', 'b', 'b', 'j', 'b', 'l', 't', 'f', 'm', 'y', 'a', 'u', 'z', 'g', 'f', 'o', 'a', 'j', 'j', 'f', 'b', 'i', 'o', 'd', 'a', 'b', 'f', 'a', 'a', 'a', 'h', 'u', 'm', 'c', 'o', 'v', 'a', 'f', 'a', 's', 'a', 'j', 'a', 'i', 'b', 'a', 'u', 'f', 'u', 'j', 'v', 'y', 's', 't', 't', 'a', 'a', 'f', 'a', 'j', 'd', 'f', 'b', 'q', 'm', 'a', 'l', 'a', 'z', 'x', 't', 'b', 'o', 'a', 'j', 'f', 't', 'v', 'e', 'j', 'f', 'm', 'f', 't', 'e', 't', 'g', 'u', 't', 'f', 'a', 't', 't', 'a', 'v', 'a', 'v', 'f', 'b', 'm', 't', 'd', 'c', 't', 'u', 's', 't', 'f', 'w', 'd', 'm', 'j', 'o', 'u', 'y', 'o', 'a', 'u', 't', 'a', 'z', 'j', 'b', 's', 'g', 'b', 'f', 'a', 'u', 'o', 'a', 'o', 'a', 't', 'z', 'e', 'b', 'j', 'u', 'h', 'w', 'j', 'p', 'e', 't', 'e', 't', 'j', 'h', 't', 'a', 'u', 's', 'u', 'a', 'f', 'a', 't', 'f', 'z', 'g', 'i', 'i', 'o', 'x', 'i', 's', 'a', 'a', 'p', 'j', 'u', 't', 'u', 's', 'i', 'o', 'a', 'a', 'd', 'f', 'f', 'v', 'm', 'a', 'u', 'c', 's', 'j', 'n', 'j', 'f', 'f', 'u', 's', 'd', 'f', 'f', 'b', 'j', 's', 'o', 'q', 'x', 'f', 'i', 'c', 'l', 'i', 'f', 'b', 'f', 'b', 'b', 'f', 'g', 'e', 'v', 't', 't', 'j', 'l', 'q', 'q', 'a', 'o', 'u', 'f', 'u', 'f', 'i', 'o', 's', 'l', 'z', 'u', 'p', 'm', 'a', 'f', 'h', 'm', 'a', 'b', 'u', 'c', 'j', 'c', 'j', 'p', 'o', 'f', 'u', 'f', 's', 'm', 'a', 'g', 'i', 'a', 'j', 'd', 'i', 'e', 'a', 'b', 't', 'j', 'y', 'f', 't', 'e', 'n', 'u', 'f', 's', 'u', 'd', 'a', 'd', 'd', 'b', 'a', 'a', 'o', 'j', 'b', 'l', 'f', 'i', 'a', 'u', 'e', 'b', 'q', 'a', 'q', 'a', 't', 'f', 'g', 'u', 'z', 'u', 'b', 'd', 'f', 'u']\n",
      "sorted_letters[5]=['u', 'p', 'j', 'u', 'c', 'a', 'i', 'g', 'a', 'y', 'g', 't', 'j', 'm', 'p', 'p', 's', 'h', 'i', 'u', 'p', 'h', 'p', 'p', 'i', 'x', 'i', 'q', 'q', 'x', 'y', 'p', 'c', 'i', 'x', 'e', 'a', 'c', 'x', 'q', 'c', 'x', 'p', 'p', 'x', 'c', 'i', 's', 'i', 'e', 'p', 'c', 'u', 'y', 's', 'l', 'k', 'g', 'u', 'g', 'p', 'r', 'b', 'i', 'i', 'x', 'r', 'y', 'w', 'r', 'p', 'p', 't', 'd', 'e', 's', 'a', 'j', 'e', 'j', 'u', 'u', 'p', 'p', 'i', 'i', 'p', 'p', 'g', 'p', 'd', 'q', 'w', 'e', 'k', 'h', 'q', 'q', 'g', 'w', 'i', 'a', 'x', 'a', 't', 'y', 'i', 'a', 'j', 'p', 'a', 'd', 'b', 'q', 'u', 's', 'w', 'i', 'p', 'a', 'u', 'i', 'q', 'y', 'i', 'h', 'u', 'c', 'i', 'p', 'h', 'b', 'p', 'd', 'i', 'd', 'q', 'c', 'a', 'u', 'c', 'u', 'i', 'p', 'd', 'x', 'h', 'p', 'e', 'c', 'p', 'b', 'i', 'p', 'i', 'h', 'a', 'i', 'p', 'p', 'u', 'd', 'x', 'p', 'a', 'u', 'u', 'x', 'e', 's', 'q', 'h', 'p', 'i', 'q', 'i', 'd', 'a', 'u', 'u', 'p', 'u', 'p', 'y', 'y', 'a', 'e', 'p', 'l', 'p', 'i', 't', 'p', 'p', 'v', 'p', 'c', 'k', 'i', 'i', 'y', 'i', 'i', 'u', 'i', 'y', 'p', 's', 'h', 'p', 'p', 'h', 'h', 'u', 'u', 'y', 'c', ' ', 'u', 'p', 'p', 'q', 'd', 'p', 'i', 'y', 'x', 'i', 'g', 'q', 'q', 'q', 'y', 'a', 'p', 'd', 'd', 'q', 'w', 'y', 'u', 'u', 'w', 'g', 'c', 'c', 'y', 'i', 'u', 'p', 'u', 'p', 'a', 't', 'q', 'p', 'p', 'c', 'u', 'q', 'x', 'u', 'p', 'a', 'q', 'c', 'c', 'u', 'y', 'y', 'g', 'p', 'p', 'h', 'r', 'q', 'p', 'j', 'q', 'h', 'q', 'r', 'c', 'q', 'c', 'c', 'p', 'h', 'h', 'c', 'd', 'y', 'r', 'p', 'y', 'g', 'u', 'x', 'j', 'i', 'y', 'x', 'u', 'j', 'k', 'u', 'i', 'n', 'y', 'e', 'h', 's', 'a', 'i', 'g', 'g', 'y', 'j', 'p', 'y', 'n', 'h', 'u', 'c', 'j', 't', 'c', 'x', 'g', 'p', 'u', 'i', 'y', 'u', 'y', 'c', 'i', 'p', 'y', 's', 'i', 'p', 's', 'q', 't', 'p', 'y', 'e', 'x', 'g', 'p', 'x', 'q', 'l', 'd', 'n', 'w', 'v', 'h', 't', 'd', 'g', 'u', 'h', 'g', 'i', 'x', 'u', 't', 'g', 'g', 'd', ' ', 'u', 'h', 'v', 'u', 'p', 'x', 'b', 'a', 'p', 'y']\n",
      "sorted_letters[6]=['f', 'k', 'a', 'g', 'o', 'm', 'x', 'o', 't', 'g', 'h', 'o', 'f', 'h', 'p', 'p', 'x', 'z', 'r', 'b', 'p', 'o', 'g', 'c', 'r', 'p', 't', ' ', 'b', 't', 'b', 'q', 'v', 'h', 't', 'c', 'd', 'o', 't', 'h', 'b', 't', 'w', 'd', 'x', 'h', 'p', 'h', 'x', 'c', 'h', 'o', 'f', 'h', 'x', 't', 'x', 'c', 'o', 'x', 'd', ' ', 'o', 'r', 'k', 't', 't', 'u', 'w', ' ', 'j', 'd', 'o', 'u', 'w', 'x', ' ', 'h', 'w', 'g', 'm', 's', 'c', 'd', 'o', 'w', 'c', 'x', 'p', 'r', 'k', 'g', 't', 'w', 't', 't', 'h', ' ', 'x', 'x', 'h', ' ', 'x', 'p', 't', 'c', 'x', 'p', 'x', 'h', 'p', 'u', 'x', 's', 'd', 'c', 'b', 'c', 'r', 'd', 'j', 't', 'g', 'o', 'w', 't', 's', 'o', 'x', 'q', 'o', 't', 'd', 'u', 'i', 'i', 'g', 'v', 'm', 'r', 't', 'm', 'm', 'g', 'f', 'c', 't', 'h', 'p', 'o', 'c', 'x', 'o', 'p', 'w', 'g', 'p', 'w', 'f', 'g', 'r', 'f', 't', 'x', 'p', 'p', 'r', 'c', 'w', 'w', 'o', 'o', 'r', 'x', 'g', 't', 'b', 'm', 'r', 'o', 'p', 's', 'a', 'v', 'd', 'p', 'w', 'h', 't', 's', 'o', 'x', 'r', 'r', 'c', ' ', 'g', 'x', 't', 'g', 'f', 'h', 'w', 't', 'i', 'b', 'c', 'x', 't', 's', 'q', 'c', 'p', 's', 'b', 's', 'o', 'o', 'q', ' ', 'h', 'h', 'b', 'h', 'c', 'v', 'x', 'p', 'x', 'b', 's', 'o', 'j', 't', 'r', 'f', 'i', 's', 'o', 'h', 'o', 'o', 'p', 't', 'o', 'v', 'c', 'f', 's', 'p', 'a', 'r', 'i', 'c', ' ', 'j', 'r', 'q', 'o', 'f', 't', 'h', 'x', 's', 'v', 'o', 'o', 'b', 'u', 'r', 'x', 'j', 'r', 'o', ' ', 'b', 'h', 'h', 'g', 't', 'f', 'p', 'c', 'j', 'o', 'h', 'r', 'o', 'o', 'o', 'i', 's', ' ', 'k', 'g', 't', 'o', 't', 'q', 'w', 'e', 't', 'b', 'f', 't', 'o', 'w', 'o', ' ', 'h', 'o', 'r', 'm', 'w', 'o', 'p', 's', 'g', 'r', 'c', 'o', 'g', 'h', 't', 'f', 'o', 'o', 't', 't', 'x', 'o', 'c', 't', 'f', 'g', 'o', 'x', 'r', 'g', 'c', 't', 'c', 'p', 'a', 'o', 'r', 'g', ' ', 't', 't', 's', 't', 'b', 'p', 'b', 'o', 't', 'p', 't', 'o', 'b', ' ', 's', 'g', 'c', 'w', 't', 'f', 't', 'x', 't', 'b', 't', 'g', 'h', 'o', 'o', 'p', 't', 't', 'c', 'f', 'c']\n",
      "sorted_letters[7]=['j', 'q', 'q', 'o', ' ', 'm', 'o', 'h', ' ', 'e', 'u', 'j', 'e', 'j', 'z', 'l', 'a', 'l', 't', 'l', 'x', 'm', 'l', 'z', 't', 'n', 'c', 'l', 'p', 'd', 'p', 'j', 'l', 'q', 'l', 'z', 't', 'e', 'c', 'q', 'q', 'y', 'u', ' ', 'm', 'q', 'n', 'm', 'o', 'z', 't', 'c', 'l', 't', 'a', 'g', 'p', 's', 'c', 's', 'c', 'q', 'r', 't', 'q', 'c', 'e', 'e', 'e', 'm', 'u', 'f', 'm', 'l', 'm', 'a', 'q', ' ', 'q', 'q', 'l', 'l', 'c', 'x', 'n', 'q', 'r', 'u', 'z', 'u', 'l', 'l', 'z', 'q', 'c', 'p', 'l', 'x', 'n', ' ', 'u', 'm', 'd', 'l', 'x', 'g', 'd', 'd', 'x', 't', 'l', 'l', 'f', 'p', 'q', 'f', 'l', 'l', 'u', 't', 'q', 'c', 'l', 'm', 'q', 'p', 'l', ' ', 'e', 'q', 'd', 'm', 'm', 'l', 'e', 'x', 'u', 'q', 'l', 'e', 'h', 'd', 'a', 'u', 'p', 'c', 'd', ' ', 'c', 'm', 'c', 'e', ' ', 'x', 'l', 'm', 'd', ' ', 'q', 'e', 'f', 'l', 'l', 'e', 'e', 'd', 'f', 'c', 'c', 'l', 'a', 'a', ' ', ' ', ' ', 'y', 'd', 'l', 'f', 't', 'd', 'l', ' ', 'q', 't', 'd', 'q', 'l', 'z', 'u', 'd', 'r', 'm', 'u', 'c', 'q', 'e', 'z', 'q', 'l', 'd', 'q', 'q', 'z', 'c', 'g', 'r', 'a', 'z', 'q', 'j', 'l', 'e', 'l', 'q', 'l', 't', 'e', 'c', 'm', 't', 'e', 'l', 't', 'c', 'z', 'd', 'z', 'n', 'p', 'l', 'c', 'q', 'y', 'u', 'l', 's', 'l', 'e', 't', 'g', 'o', 'u', 'a', 'r', 'l', 'z', ' ', 'l', 'z', 'm', 't', 'e', 'p', 'x', 'u', 'u', 'c', 'u', 'e', 'l', 'l', 'z', 'c', 'm', 'z', 'd', 'l', 'u', 'm', 'n', 'u', 'u', 'u', 'q', 'd', 't', 'm', 'l', 'c', 'x', 's', 'h', 'q', 'm', 'l', 'u', 'q', 'q', 'r', 'c', 'l', 'u', ' ', 'w', 'x', 'e', 'c', 'x', 'q', 'f', 'l', 'e', 'j', 'z', 'd', 'l', 'd', 'x', 'm', 'o', 'm', 'l', 'q', 'o', 'a', 'q', 'q', 'm', 'z', 'e', 'l', 'h', 'e', 'e', 'z', 'r', 'l', 'l', 'd', 'q', 'l', 'x', 'l', 'l', 'o', ' ', 'u', 'w', 'z', 'l', 'r', 'l', 'a', 'm', 'u', 'w', 'q', 'l', 'l', 'f', 'l', 'l', 'c', 'r', 'd', 'd', 'c', 'o', 'e', 'l', 'j', 'l', 'm', 'f', 'q', 'l', 'm', 'c', 'y', 'x', 'l', 'j', 'l', 'q', 'o', 'g', 'z', 'l', 'l', 'd', 'q', 'z']\n",
      "sorted_letters[8]=['s', 'd', 'f', 'j', 'y', 'd', 's', 't', 'f', 't', 's', 'x', 'x', 's', 'w', 'e', ' ', 'l', 's', 'v', 'h', 'd', 'k', 'd', 'x', 'x', 's', 'o', 's', 's', 'a', 's', 'l', 'j', 'v', 'w', 't', ' ', 'l', 'j', 'k', 'a', 'k', 'd', 'x', 'w', 'm', 's', 't', 'x', 'x', 'x', 'l', 'x', ' ', 'x', 'x', 'j', 't', 'a', 'x', 's', 'g', 'a', 'x', 's', 'k', 'x', 'q', 'a', 'z', 'u', 's', 'h', 'u', ' ', 'w', 'c', 'j', 's', 'a', 'g', 'a', 't', 'x', 's', 's', 'a', 'v', 'h', 'c', 'l', 'x', 'j', 's', 's', 'g', 'q', 'x', 'n', 'k', 'k', 's', 'v', 's', 't', 'l', 'g', 'l', 'x', 'j', 'l', 'k', 'x', 't', 'f', 't', 'k', 'h', 't', 'j', 's', 't', 'f', 'e', 's', 'h', 'y', 'm', 'd', 'v', 'f', 'l', 'k', 'a', 'w', 'd', 'w', 'u', 'a', 's', 's', 'a', 'f', 'k', 'l', 's', 's', 'l', 'w', 's', 'l', 'y', 'g', 'l', 'z', 'g', 'w', 'i', 'j', 'j', 'g', 'c', 's', 'a', 'q', 'j', 'l', 't', 't', 'j', 'j', 'f', 'f', 's', 's', 'a', 'e', 'j', 'g', 's', 'l', 'w', 'f', 'x', 'g', 'j', ' ', 'l', 'y', ' ', 'y', 'x', 'h', 's', 'l', 'x', 'z', 'f', 'y', 's', 'j', 's', 'l', 'q', 'x', 's', ' ', 'l', 'k', 's', 'o', 'l', 'l', 'j', 'c', 'a', ' ', 'x', 'e', 'a', 'j', 'k', 't', 'q', 'g', 's', 'l', 'm', 's', 'f', 'x', 's', 'x', 'h', ' ', ' ', 'f', 'g', 's', 'a', 'a', 'f', 'm', 'g', 'x', 't', 'f', 't', 'w', 'l', 't', 'o', 'z', 'x', 'z', 'h', 'x', 'f', 'a', 't', 'v', 's', 'x', 'r', 'a', 'x', 'k', 'v', 'f', 'x', 'z', 'h', 'e', 's', 'd', 't', 'l', 'f', 'n', 'x', 'x', 'f', 's', 's', 'g', 'h', 't', 'f', 'a', 's', 'f', 'k', 'j', 'a', 'q', ' ', 's', 'a', 's', 'x', 'f', ' ', 's', 's', 'a', 'v', 'g', 'x', 'f', 'g', 'k', 'u', 's', 'j', ' ', 's', 'w', 'd', 's', ' ', 't', 'x', 'x', 'x', 'a', 'g', 'n', 'v', 's', 'f', 'u', 'w', 'a', 'm', 'g', 'f', 'h', 'k', 'y', 'k', 's', 'y', 'd', 's', 'h', 's', 'e', 'n', 'v', 'j', 't', 'v', 's', 'x', 's', 's', 's', 'j', ' ', 'j', 's', 'a', 'z', 'z', 's', 'v', 'l', 'k', 't', 'a', 'l', 's', 'e', 'j', 'g', 'a', 'w', 'o', 'l', 'x', 'l', 'z']\n"
     ]
    }
   ],
   "source": [
    "#Check to see if this works as intended\n",
    "for n in range(0,len(sorted_letters)) :\n",
    "    print(f'sorted_letters[{n}]={sorted_letters[n]}')\n",
    "\n",
    "# expected output:\n",
    "# f s y ...\n",
    "# q r i ...\n",
    "# s e r ...\n",
    "# e x t ...\n",
    "# w u d ...\n",
    "# u p j ...\n",
    "# f k a ...\n",
    "# j q q ...\n",
    "# s d f ...\n",
    "#CORRECT!"
   ]
  },
  {
   "cell_type": "code",
   "execution_count": 215,
   "id": "8420e9c4",
   "metadata": {},
   "outputs": [
    {
     "name": "stdout",
     "output_type": "stream",
     "text": [
      "alphabet frequency = [[0.18505712004976, ' '], [0.0975032137896586, 'e'], [0.0692048516144487, 't'], [0.0640553023616335, 'a'], [0.0631141332567514, 'o'], [0.0561516595676339, 'i'], [0.055226823115331, 'n'], [0.0528674353448129, 's'], [0.0497240802504884, 'h'], [0.0483235552918135, 'r'], [0.0377937580685005, 'l'], [0.0337670786805122, 'd'], [0.0229922916685098, 'u'], [0.0217067758050807, 'm'], [0.0207519961563824, 'c'], [0.0191935888894409, 'g'], [0.0183885252227195, 'f'], [0.0179876947073359, 'w'], [0.01673076098592, 'y'], [0.0155745452887443, 'p'], [0.0145802950629794, 'b'], [0.00830311225500171, 'k'], [0.00671544231885557, 'v'], [0.00164143158421966, 'j'], [0.000996291807337308, 'x'], [0.000913948017250003, 'q'], [0.000734288838877702, 'z']]\n",
      "mineapols\n"
     ]
    }
   ],
   "source": [
    "#combine all the letters in each pair into one continuous string\n",
    "unseparated_sorted_letters = [[] * num_keys] * (key_length)\n",
    "for groups in range(0,len(sorted_letters)):\n",
    "    unseparated_sorted_letters[groups] = ''.join(sorted_letters[groups])\n",
    "\n",
    "\n",
    "freq_encoded = [-1] * len(unseparated_sorted_letters)\n",
    "# Frequency Analysis on Variables\n",
    "index = 0\n",
    "for groups in unseparated_sorted_letters :\n",
    "    freq_encoded[index] = EmpiricalFrequency(groups, 'char')\n",
    "    # print(EmpiricalFrequency(groups, 'char'))\n",
    "    index+=1\n",
    "\n",
    "alphabet = ' abcdefghijklmnopqrstuvwxyz'\n",
    "\n",
    "paired_freq_encoded = [[[-1, '?'] for _ in range(len(alphabet))] for _ in range(key_length)]\n",
    "#print(paired_freq_encoded)\n",
    "i=0\n",
    "for group in paired_freq_encoded :\n",
    "    j=0\n",
    "    #print(group)\n",
    "    for letter_pair in group :\n",
    "        paired_freq_encoded[i][j][0] = freq_encoded[i][j]  # Directly modify the original list\n",
    "        paired_freq_encoded[i][j][1] = alphabet[j]         # Directly modify the origina\n",
    "        j+=1\n",
    "    i+=1\n",
    "\n",
    "paired_alphabet_frequency = [[-1, '?'] for _ in range(len(alphabet))]\n",
    "\n",
    "alphabet_frequency = [0.185057120049760, 0.0640553023616335, 0.0145802950629794, 0.0207519961563824, 0.0337670786805122, 0.0975032137896586, 0.0183885252227195, 0.0191935888894409, 0.0497240802504884, 0.0561516595676339, 0.00164143158421966, 0.00830311225500171, 0.0377937580685005, 0.0217067758050807, 0.0552268231153310, 0.0631141332567514, 0.0155745452887443, 0.000913948017250003, 0.0483235552918135, 0.0528674353448129, 0.0692048516144487, 0.0229922916685098, 0.00671544231885557, 0.0179876947073359, 0.000996291807337308, 0.016730760985920, 0.000734288838877702]\n",
    "\n",
    "i=0\n",
    "for group in paired_alphabet_frequency :\n",
    "    group[0] = alphabet_frequency[i]\n",
    "    group[1] = alphabet[i]\n",
    "    i+=1\n",
    "\n",
    "#sort based on frequency\n",
    "paired_alphabet_frequency.sort(reverse=True)\n",
    "for pairs in paired_freq_encoded :\n",
    "    pairs.sort(reverse=True)\n",
    "\n",
    "\n",
    "\n",
    "\n",
    "print(f'alphabet frequency = {paired_alphabet_frequency}')\n",
    "\n",
    "key = [] * key_length\n",
    "\n",
    "for x in paired_freq_encoded :\n",
    "    key.append(x[0][1])\n",
    "key = ''.join(key)\n",
    "print(key)"
   ]
  },
  {
   "cell_type": "code",
   "execution_count": 207,
   "id": "4cfc3e26",
   "metadata": {},
   "outputs": [],
   "source": [
    "def decode_cipher(key,filename,alphabet_array) :\n",
    "\n",
    "    alphabet = alphabet_array[0]\n",
    "    inv_alphabet_dict = alphabet_array[1]\n",
    "    inv_alphabet_dict = alphabet_array[2]\n",
    "\n",
    "\n",
    "    ciphertext = ProcessFile(filename,'file')\n",
    "    cipher_length = len(ciphertext)\n",
    "    plaintext = ['?'] * cipher_length\n",
    "    #print(ciphertext)\n",
    "    key_length = len(key)\n",
    "    #print(f'key_length={key_length}')\n",
    "\n",
    "    output = ciphertext\n",
    "\n",
    "    #assign number values to letters\n",
    "\n",
    "    #For each letter, subtract\n",
    "    \n",
    "\n",
    "\n",
    "    i=0\n",
    "    for letter in key :\n",
    "\n",
    "        for repeat in range(0,(cipher_length//key_length)+1) :\n",
    "            if (9*repeat+i)<(cipher_length) : #don't leave index range\n",
    "                cipher_index = 9*repeat+i\n",
    "            #print(cipher_index)\n",
    "            plaintext[cipher_index] = inv_alphabet_dict[np.mod((alphabet_dict[ciphertext[cipher_index]] - alphabet_dict[letter]),len(alphabet))]\n",
    "        i+=1\n",
    "\n"
   ]
  },
  {
   "cell_type": "code",
   "execution_count": 217,
   "id": "e9f4bc5c",
   "metadata": {},
   "outputs": [
    {
     "name": "stdout",
     "output_type": "stream",
     "text": [
      "the very first well documented description of a polyalphabetic cipher was by leon battista alberti around year fourteen sixty seven and used a metal cipher disk to switch between cipher alphabets alberti s system only switched alphabets after several words and switches were indicated by writing the letter of the corresponding alphabet in the ciphertext later johannes trithemius in his work polygraphiae invented the tabula recta a critical component of the vigen re cipher the trithemius cipher however provided a progressive rather rigid and predictable system for switching between cipher alphabets in fifteen eighty six blaise de vigenere published a type of polyalphabetic cipher called an autokey cipher because its key is based on the original plaintext before the court of henry iii of france the cipher now known as the vigenere cipher however is based on that originally described by giovan battista bellaso in his book la cifra del sig giovan battista bellaso he built upon the tabula recta of trithemius but added a repeating countersign a key to switch cipher alphabets every letter whereas alberti and trithemius used a fixed pattern of substitutions bellaso s scheme meant the pattern of substitutions could be easily changed simply by selecting a new key keys were typically single words or short phrases known to both parties in advance or transmitted out of band along with the message bellaso s method thus required strong security for only the key as it is relatively easy to secure a short key phrase such as by a previous private conversation bellaso s system was considerably more secure note however as opposed to the modern vigenere cipher bellaso s cipher didn t have twenty six different shifts different caesar s ciphers for every letter instead having thirteen shifts for pairs of letters in the nineteenth century the invention of this cipher essentially designed by bellaso was misattributed to vigenere david kahn in his book the codebreakers lamented this misattribution saying that history had ignored this important contribution and instead named a regressive and elementary cipher for him though he had nothing to do with it the vigenere cipher gained a reputation for being exceptionally strong noted author and mathematician charles lutwidge dodgson called the vigenere cipher unbreakable in his article the alphabet cipher in a children s magazine in nineteen seventeen scientific american described the vigenere cipher as impossible of translation that reputation was not deserved charles babbage is known to have broken a variant of the cipher as early as enghteen fifty four but did not publish his work kasiski entirely broke the cipher and published the technique in the nineteenth century but even in the sixteenth century some skilled cryptanalysts could occasionally break the cipher cryptographic slide rule used as a calculation aid by the swiss army between nineteen fourteen and nineteen forty the vigenere cipher is simple enough to be a field cipher if it is used in conjunction with cipher disks the confederate states of america for example used a brass cipher disk to implement the vigenere cipher during the american civil war the confederacy s messages were far from secret and the union regularly cracked its messages throughout the war the confederate leadership primarily relied upon three key phrases manchester bluff complete victory and as the war came to a close come retribution\n"
     ]
    }
   ],
   "source": [
    "mykey = 'mineapols'\n",
    "\n",
    "my_alphabet= ' abcdefghijklmnopqrstuvwxyz'\n",
    "\n",
    "my_alphabet_dict = {\n",
    "    ' ': 0,\n",
    "    'a': 1,\n",
    "    'b': 2,\n",
    "    'c': 3,\n",
    "    'd': 4,\n",
    "    'e': 5,\n",
    "    'f': 6,\n",
    "    'g': 7,\n",
    "    'h': 8,\n",
    "    'i': 9,\n",
    "    'j': 10,\n",
    "    'k': 11,\n",
    "    'l': 12,\n",
    "    'm': 13,\n",
    "    'n': 14,\n",
    "    'o': 15,\n",
    "    'p': 16,\n",
    "    'q': 17,\n",
    "    'r': 18,\n",
    "    's': 19,\n",
    "    't': 20,\n",
    "    'u': 21,\n",
    "    'v': 22,\n",
    "    'w': 23,\n",
    "    'x': 24,\n",
    "    'y': 25,\n",
    "    'z': 26\n",
    "}\n",
    "\n",
    "my_inv_alphabet_dict = {v: k for k, v in my_alphabet_dict.items()}\n",
    "\n",
    "my_alphabet_array = [my_alphabet, my_alphabet_dict, my_inv_alphabet_dict]\n",
    "\n",
    "\n",
    "decoded_cipher = decode_cipher(mykey,'ciphertext.txt', my_alphabet_array)\n",
    "print(''.join(decoded_cipher))\n"
   ]
  }
 ],
 "metadata": {
  "kernelspec": {
   "display_name": "Python 3 (ipykernel)",
   "language": "python",
   "name": "python3"
  },
  "language_info": {
   "codemirror_mode": {
    "name": "ipython",
    "version": 3
   },
   "file_extension": ".py",
   "mimetype": "text/x-python",
   "name": "python",
   "nbconvert_exporter": "python",
   "pygments_lexer": "ipython3",
   "version": "3.11.1"
  }
 },
 "nbformat": 4,
 "nbformat_minor": 5
}
