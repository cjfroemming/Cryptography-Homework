{
 "cells": [
  {
   "cell_type": "code",
   "execution_count": 7,
   "id": "71ca29b3-b8a5-4c9a-a410-ff3656c39883",
   "metadata": {},
   "outputs": [],
   "source": [
    "#Import libraries\n",
    "import sympy as sp\n",
    "import numpy as np\n",
    "np.set_printoptions(legacy='1.25')"
   ]
  },
  {
   "cell_type": "markdown",
   "id": "9ccb3f07",
   "metadata": {},
   "source": [
    "## Problem 4"
   ]
  },
  {
   "cell_type": "code",
   "execution_count": 25,
   "id": "eb19cf2f",
   "metadata": {},
   "outputs": [],
   "source": [
    "# n = 121643759\n",
    "# e = [0,0,0,1,0,0,0,1]\n",
    "# M = \n",
    "\n",
    "def RSA_encrypt(M,e,n) :\n",
    "    c = 0\n",
    "    f = 1\n",
    "    for i in e :\n",
    "        c = c*2\n",
    "        f = f*f % n\n",
    "        if i==1 :\n",
    "            c = c+1\n",
    "            f = np.multiply(f,M) % n\n",
    "\n",
    "    return f"
   ]
  },
  {
   "cell_type": "code",
   "execution_count": 26,
   "id": "aaeb5428",
   "metadata": {},
   "outputs": [],
   "source": [
    "n = 561\n",
    "e = [1,0,0,0,1,1,0,0,0,0]\n",
    "M = 7\n",
    "lecture_example = RSA_encrypt(7,e,n)"
   ]
  },
  {
   "cell_type": "code",
   "execution_count": 28,
   "id": "7ffb2230",
   "metadata": {},
   "outputs": [
    {
     "name": "stdout",
     "output_type": "stream",
     "text": [
      "201088 85403970 19023410 22989214\n"
     ]
    }
   ],
   "source": [
    "n=121643759\n",
    "e = [0,0,0,1,0,0,0,1]\n",
    "M1 = 3414142\n",
    "M2 = 31440006\n",
    "M3 = 44413139\n",
    "M4 = 39354033\n",
    "\n",
    "C1 = RSA_encrypt(M1,e,n)\n",
    "C2 = RSA_encrypt(M2,e,n)\n",
    "C3 = RSA_encrypt(M3,e,n)\n",
    "C4 = RSA_encrypt(M4,e,n)\n",
    "print(f'{C1} {C2} {C3} {C4}')"
   ]
  },
  {
   "cell_type": "markdown",
   "id": "941fcb33",
   "metadata": {},
   "source": [
    "## Problem 5"
   ]
  },
  {
   "cell_type": "code",
   "execution_count": 19,
   "id": "56b840aa",
   "metadata": {},
   "outputs": [
    {
     "name": "stdout",
     "output_type": "stream",
     "text": [
      "x = 78, z = 78\n",
      "x = 621, z = 264\n",
      "x = 1164, z = 93\n",
      "x = 1707, z = 279\n",
      "x = 2250, z = 108\n",
      "x = 2793, z = 294\n",
      "x = 3336, z = 123\n",
      "x = 3879, z = 309\n",
      "x = 4422, z = 138\n",
      "x = 4965, z = 324\n",
      "x = 5508, z = 153\n",
      "x = 6051, z = 339\n",
      "x = 6594, z = 168\n",
      "x = 7137, z = 354\n",
      "x = 7680, z = 183\n",
      "x = 8223, z = 12\n",
      "x = 8766, z = 198\n",
      "x = 9309, z = 27\n",
      "x = 9852, z = 213\n",
      "x = 10395, z = 42\n",
      "x = 10938, z = 228\n",
      "x = 11481, z = 57\n",
      "x = 12024, z = 243\n",
      "x = 12567, z = 72\n",
      "x = 13110, z = 258\n",
      "x = 13653, z = 87\n",
      "x = 14196, z = 273\n",
      "x = 14739, z = 102\n",
      "x = 15282, z = 288\n",
      "x = 15825, z = 117\n",
      "x = 16368, z = 303\n",
      "x = 16911, z = 132\n",
      "x = 17454, z = 318\n",
      "x = 17997, z = 147\n",
      "x = 18540, z = 333\n",
      "x = 19083, z = 162\n",
      "x = 19626, z = 348\n",
      "x = 20169, z = 177\n",
      "x = 20712, z = 6\n",
      "x = 21255, z = 192\n",
      "x = 21798, z = 21\n",
      "x = 22341, z = 207\n",
      "x = 22884, z = 36\n",
      "x = 23427, z = 222\n",
      "x = 23970, z = 51\n",
      "x = 24513, z = 237\n",
      "x = 25056, z = 66\n",
      "x = 25599, z = 252\n",
      "x = 26142, z = 81\n",
      "x = 26685, z = 267\n",
      "x = 27228, z = 96\n",
      "x = 27771, z = 282\n",
      "x = 28314, z = 111\n",
      "x = 28857, z = 297\n",
      "x = 29400, z = 126\n",
      "x = 29943, z = 312\n",
      "x = 30486, z = 141\n",
      "x = 31029, z = 327\n",
      "x = 31572, z = 156\n",
      "x = 32115, z = 342\n",
      "x = 32658, z = 171\n",
      "x = 33201, z = 0\n",
      "x = 33744, z = 186\n",
      "x = 34287, z = 15\n",
      "x = 34830, z = 201\n",
      "x = 35373, z = 30\n",
      "x = 35916, z = 216\n",
      "x = 36459, z = 45\n",
      "x = 37002, z = 231\n",
      "x = 37545, z = 60\n",
      "x = 38088, z = 246\n",
      "x = 38631, z = 75\n",
      "x = 39174, z = 261\n",
      "x = 39717, z = 90\n",
      "x = 40260, z = 276\n",
      "x = 40803, z = 105\n",
      "x = 41346, z = 291\n",
      "x = 41889, z = 120\n",
      "x = 42432, z = 306\n",
      "x = 42975, z = 135\n",
      "x = 43518, z = 321\n",
      "x = 44061, z = 150\n",
      "x = 44604, z = 336\n",
      "x = 45147, z = 165\n",
      "x = 45690, z = 351\n",
      "x = 46233, z = 180\n",
      "x = 46776, z = 9\n",
      "x = 47319, z = 195\n",
      "x = 47862, z = 24\n",
      "x = 48405, z = 210\n",
      "x = 48948, z = 39\n",
      "x = 49491, z = 225\n",
      "x = 50034, z = 54\n",
      "x = 50577, z = 240\n",
      "x = 51120, z = 69\n",
      "x = 51663, z = 255\n",
      "x = 52206, z = 84\n",
      "x = 52749, z = 270\n",
      "x = 53292, z = 99\n",
      "x = 53835, z = 285\n"
     ]
    }
   ],
   "source": [
    "x = 78\n",
    "for k in range(0,100) :\n",
    "    x = 78+543*k\n",
    "    y = x % 265\n",
    "    z = x % 357\n",
    "    print(f'x = {x}, z = {z}')"
   ]
  },
  {
   "cell_type": "code",
   "execution_count": 22,
   "id": "3ca15fd1",
   "metadata": {},
   "outputs": [
    {
     "name": "stdout",
     "output_type": "stream",
     "text": [
      "181.0\n",
      "119.0\n",
      "3\n",
      "1\n"
     ]
    }
   ],
   "source": [
    "print(543/3)\n",
    "print(357/3)\n",
    "print(np.gcd(543,357))\n",
    "print(np.gcd(181,119))"
   ]
  },
  {
   "cell_type": "code",
   "execution_count": 36,
   "id": "0f54af89",
   "metadata": {},
   "outputs": [],
   "source": [
    "\n",
    "def find_common_num(valA,valB,valC,modA,modB,modC,limit) :\n",
    "    \n",
    "    for k in range(0,limit) :\n",
    "        x = valA+k*modA\n",
    "        y = x % modB\n",
    "        if (y==valB)  :\n",
    "            z = x % modC\n",
    "            if (z==valC):\n",
    "                print(f'valB = {y}, valC = {z}')\n",
    "                return [y,z]"
   ]
  },
  {
   "cell_type": "code",
   "execution_count": 37,
   "id": "9ec09595",
   "metadata": {},
   "outputs": [],
   "source": [
    "find_common_num(2461786,32328918,40602713,64652191,53275609,67903951,1000000000)"
   ]
  },
  {
   "cell_type": "code",
   "execution_count": 206,
   "id": "bd9fb642",
   "metadata": {},
   "outputs": [],
   "source": [
    "#Must have R = [], and Q = [] set outside of function\n",
    "def inverse_euclid_algorithm(a,b) :\n",
    "    q = int(a/b)\n",
    "    r = a-b*q\n",
    "    R.append(r)\n",
    "    Q.append(q)\n",
    "    if r == 1 :\n",
    "        return\n",
    "    inverse_euclid_algorithm(b,r)\n",
    "\n",
    "\n",
    "def euclid_mult_inverse(R,Q) :\n",
    "    A = [[0,len(Q)-x-1] for x in range(0,len(Q))]\n",
    "    R.reverse()\n",
    "    Q.reverse()\n",
    "    print(R)\n",
    "    print(Q)\n",
    "    A[0][0] = -Q[0]\n",
    "    A[1][0] = 1\n",
    "    print(A)\n",
    "    a = 0\n",
    "    b = 0\n",
    "    i=1\n",
    "    while i<len(R) :\n",
    "        print(f'i={i}')\n",
    "        A_temp = A[i-1][0]\n",
    "        print(f'A_temp = {A_temp}')\n",
    "        print(f'Q[{i}] = {Q[i]}')\n",
    "        A[i-1][0] = 0\n",
    "        A[i][0] = A[i][0] - A_temp*Q[i]\n",
    "        print(A)\n",
    "        if (i+1)<len(R) : A[i+1][0] = A[i+1][0] + A_temp\n",
    "        else : a = A_temp\n",
    "        i+=1\n",
    "    b = A[len(A)-1][0]\n",
    "    print(f'a={a}, b={b}')\n",
    "    return [a,b]\n",
    "    \n",
    "    \n",
    "    "
   ]
  },
  {
   "cell_type": "code",
   "execution_count": 198,
   "id": "1d1fb840",
   "metadata": {},
   "outputs": [
    {
     "name": "stdout",
     "output_type": "stream",
     "text": [
      "[1, 2, 3, 5, 13]\n",
      "[1, 1, 2, 20, 2]\n",
      "[[-1, 4], [1, 3], [0, 2], [0, 1], [0, 0]]\n",
      "i=1\n",
      "A_temp = -1\n",
      "Q[1] = 1\n",
      "i=2\n",
      "A_temp = 2\n",
      "Q[2] = 2\n",
      "i=3\n",
      "A_temp = -5\n",
      "Q[3] = 20\n",
      "i=4\n",
      "A_temp = 102\n",
      "Q[4] = 2\n",
      "a=102, b=-209\n"
     ]
    },
    {
     "data": {
      "text/plain": [
       "[102, -209]"
      ]
     },
     "execution_count": 198,
     "metadata": {},
     "output_type": "execute_result"
    }
   ],
   "source": [
    "R = []\n",
    "Q = []\n",
    "inverse_euclid_algorithm(543,265)\n",
    "euclid_mult_inverse(R,Q)"
   ]
  },
  {
   "cell_type": "code",
   "execution_count": 207,
   "id": "69f2dcb3",
   "metadata": {},
   "outputs": [
    {
     "name": "stdout",
     "output_type": "stream",
     "text": [
      "[1, 3, 31, 34]\n",
      "[10, 1, 2, 554]\n",
      "[[-10, 3], [1, 2], [0, 1], [0, 0]]\n",
      "i=1\n",
      "A_temp = -10\n",
      "Q[1] = 1\n",
      "[[0, 3], [11, 2], [0, 1], [0, 0]]\n",
      "i=2\n",
      "A_temp = 11\n",
      "Q[2] = 2\n",
      "[[0, 3], [0, 2], [-32, 1], [0, 0]]\n",
      "i=3\n",
      "A_temp = -32\n",
      "Q[3] = 554\n",
      "[[0, 3], [0, 2], [0, 1], [17739, 0]]\n",
      "a=-32, b=17739\n"
     ]
    },
    {
     "data": {
      "text/plain": [
       "[-32, 17739]"
      ]
     },
     "execution_count": 207,
     "metadata": {},
     "output_type": "execute_result"
    }
   ],
   "source": [
    "R = []\n",
    "Q = []\n",
    "inverse_euclid_algorithm(54880,99)\n",
    "euclid_mult_inverse(R,Q)"
   ]
  },
  {
   "cell_type": "code",
   "execution_count": 211,
   "id": "0b75fb56",
   "metadata": {},
   "outputs": [
    {
     "name": "stdout",
     "output_type": "stream",
     "text": [
      "[1, 543]\n",
      "[56, 0]\n",
      "[[-56, 1], [1, 0]]\n",
      "i=1\n",
      "A_temp = -56\n",
      "Q[1] = 0\n",
      "[[0, 1], [1, 0]]\n",
      "a=-56, b=1\n"
     ]
    },
    {
     "data": {
      "text/plain": [
       "[-56, 1]"
      ]
     },
     "execution_count": 211,
     "metadata": {},
     "output_type": "execute_result"
    }
   ],
   "source": [
    "R = []\n",
    "Q = []\n",
    "inverse_euclid_algorithm(543,30486-77)\n",
    "euclid_mult_inverse(R,Q)"
   ]
  }
 ],
 "metadata": {
  "kernelspec": {
   "display_name": "Python 3",
   "language": "python",
   "name": "python3"
  },
  "language_info": {
   "codemirror_mode": {
    "name": "ipython",
    "version": 3
   },
   "file_extension": ".py",
   "mimetype": "text/x-python",
   "name": "python",
   "nbconvert_exporter": "python",
   "pygments_lexer": "ipython3",
   "version": "3.11.1"
  }
 },
 "nbformat": 4,
 "nbformat_minor": 5
}
