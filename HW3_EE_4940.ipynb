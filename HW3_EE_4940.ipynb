{
 "cells": [
  {
   "cell_type": "code",
   "execution_count": 1,
   "id": "99953193-e838-4ac6-b361-f6fa997db102",
   "metadata": {},
   "outputs": [],
   "source": [
    "import sympy as sp\n",
    "import numpy as np\n",
    "import galois as gf\n",
    "import pandoc\n",
    "from math import *\n",
    "\n",
    "np.set_printoptions(legacy='1.25')"
   ]
  },
  {
   "cell_type": "markdown",
   "id": "f6d7be78",
   "metadata": {},
   "source": [
    "## Problem 1"
   ]
  },
  {
   "cell_type": "markdown",
   "id": "ae303dc9",
   "metadata": {},
   "source": [
    "Consider the matrix\n",
    "\n",
    "$ A = \\begin{bmatrix}\n",
    "3 & 1 & 6 \\\\\n",
    "3 & 0 & 4 \\\\\n",
    "1 & 3 & 2 \n",
    "\\end{bmatrix}  $\n",
    "\n",
    "in GF(7).\n",
    "\n",
    "(a) Find the determinant of $A$. Is it invertible?"
   ]
  },
  {
   "cell_type": "markdown",
   "id": "b7fa1405",
   "metadata": {},
   "source": [
    ">A matrix is invertible if it is a square $n$ by $n$ matrix, and the determinant is non-zero."
   ]
  },
  {
   "cell_type": "code",
   "execution_count": 37,
   "id": "ec3ecba6",
   "metadata": {},
   "outputs": [],
   "source": [
    "# det| a b | = a*e - b*d\n",
    "#    | d e |\n",
    "\n",
    "#matrix: numpy array.\n",
    "#p: galois field value GF(p)\n",
    "def determinant_2x2_GF(matrix,p) :\n",
    "    return np.mod(int(np.linalg.det(matrix)),p)\n",
    "\n",
    "#matrix: numpy array.\n",
    "#p: galois field value GF(p)\n",
    "def determinant_3x3_GF(matrix,p) :\n",
    "    return np.mod(int(np.linalg.det(matrix)),p)"
   ]
  },
  {
   "cell_type": "code",
   "execution_count": 39,
   "id": "025d8e7c",
   "metadata": {},
   "outputs": [
    {
     "name": "stdout",
     "output_type": "stream",
     "text": [
      "The determinant of A = 2\n"
     ]
    }
   ],
   "source": [
    "# A = np.array([[0,4],[3,2]])\n",
    "# print(f'Testing determinant_2x2_GF...')\n",
    "# print(f'Expected value = 2. Answer = {determinant_2x2_GF(A,7)}')\n",
    "\n",
    "A = np.array([[3,1,6],[3,0,4],[1,3,2]])\n",
    "\n",
    "print(f'The determinant of A = {determinant_3x3_GF(A,7)}')"
   ]
  },
  {
   "cell_type": "code",
   "execution_count": 45,
   "id": "4c937211",
   "metadata": {},
   "outputs": [
    {
     "name": "stdout",
     "output_type": "stream",
     "text": [
      "3\n"
     ]
    }
   ],
   "source": [
    "print(len(A))"
   ]
  },
  {
   "cell_type": "markdown",
   "id": "7cf081ee",
   "metadata": {},
   "source": [
    "> The determinant of A = 2, which is not zero, therefore A is invertible.\n",
    "\n",
    "> I used numpy's numpy.linalg.det() function which returns the determinant of a matrix. I take the modulus of the result."
   ]
  },
  {
   "cell_type": "markdown",
   "id": "7074ab8e",
   "metadata": {},
   "source": [
    "(b) Recall that in real numbers, the inverse of $A$ can be found as\n",
    "\n",
    "$ A^{-1} = \\frac{1}{det(A)} \\begin{bmatrix}\n",
    "det(A(1, 1)) & − det(A(1, 2)) & det(A(1, 3)) \\\\\n",
    "− det(A(2, 1)) & det(A(2, 2)) & − det(A(2, 3)) \\\\\n",
    "det(A(3, 1)) & − det(A(3, 2)) & det(A(3, 3)) \n",
    "\\end{bmatrix}  $\n",
    "\n",
    "where $A(i, j)$ is the matrix obtained by removing row $i$ and column $j$ of matrix $A$. For instance,\n",
    "\n",
    "$ A(1,2) = \\begin{bmatrix}\n",
    "3 & 4 \\\\\n",
    "1 & 2 \n",
    "\\end{bmatrix}  $\n",
    "\n",
    "Note that $±$ det($A(i, j)$) is still an integer, and hence, you can find the inverse of $A$ in GF(7) by replacing division by det($A$) by multiplying by in the multiplicative inverse of det($A$) in GF(7). Now, use the method above to find the inverse of $A$ in GF(7). You may use MATLAB or any other software. Describe your method."
   ]
  },
  {
   "cell_type": "code",
   "execution_count": 144,
   "id": "71d41856",
   "metadata": {},
   "outputs": [],
   "source": [
    "#Finds inverse in modulo. e.g. 2 inverse in mod 3 is 2 b/c 2*2 = 4(mod 3) = 1\n",
    "#==Inputs== \n",
    "#input: value to find the inverse of\n",
    "#modulo: value of the modulus\n",
    "def find_modulo_inverse(input, modulo) :\n",
    "    i=modulo\n",
    "    while i>0 :\n",
    "        if np.mod(input*i,modulo) == 1 :\n",
    "            return i\n",
    "        i-=1\n",
    "    return 0\n",
    "\n",
    "def modulo_divide(a, b, m):\n",
    "    a = np.mod(a,m)\n",
    "    inv = find_modulo_inverse(b,m)\n",
    "    if inv == 0 :\n",
    "        print(\"Division not Defined\")\n",
    "        return 0\n",
    "    else :\n",
    "        return np.mod(inv*a,m)\n",
    "\n",
    "\n",
    "#matrix: nxn numpy array.\n",
    "#p: p in GF(p)\n",
    "#returns the inversem matrix.\n",
    "def inverse_matrix_GF(matrix, p) :\n",
    "    determinant_inv = find_modulo_inverse(int(np.mod(np.linalg.det(matrix),p)),p)\n",
    "    output = matrix*0\n",
    "    i=0\n",
    "    negative = 1 # +/- 1 depending on the row/column index.\n",
    "    while i<len(output):\n",
    "        j=0\n",
    "        while j<len(output) :\n",
    "            print(f'det_inv = {determinant_inv}')\n",
    "            print(f'output[i,j] = {determinant_inv*negative*int(np.linalg.det(np.delete((np.delete(matrix, i,axis=0)),j,axis=1)))}')\n",
    "            output[i,j] = np.mod((determinant_inv*negative*int(np.linalg.det(np.delete((np.delete(matrix, i,axis=0)),j,axis=1)))),p) #deletes row i and column j, and finds the determinant of the resulting matrix, and divides the determinant into the result.\n",
    "            negative = negative*-1 #alternates the negative sign to the matrix\n",
    "            j+=1\n",
    "        i+=1\n",
    "    return output"
   ]
  },
  {
   "cell_type": "code",
   "execution_count": 154,
   "id": "dd5adb63",
   "metadata": {},
   "outputs": [
    {
     "name": "stdout",
     "output_type": "stream",
     "text": [
      "det_inv = 4\n",
      "output[i,j] = -48\n",
      "det_inv = 4\n",
      "output[i,j] = -8\n",
      "det_inv = 4\n",
      "output[i,j] = 36\n",
      "det_inv = 4\n",
      "output[i,j] = 64\n",
      "det_inv = 4\n",
      "output[i,j] = 0\n",
      "det_inv = 4\n",
      "output[i,j] = -32\n",
      "det_inv = 4\n",
      "output[i,j] = 16\n",
      "det_inv = 4\n",
      "output[i,j] = 24\n",
      "det_inv = 4\n",
      "output[i,j] = -12\n"
     ]
    },
    {
     "data": {
      "text/plain": [
       "array([[16, 36, 18],\n",
       "       [11, 30, 11],\n",
       "       [ 8, 12, 14]])"
      ]
     },
     "execution_count": 154,
     "metadata": {},
     "output_type": "execute_result"
    }
   ],
   "source": [
    "A = np.array([[3,1,6],[3,0,4],[1,3,2]])\n",
    "A_inv = inverse_matrix_GF(A,7)\n",
    "\n",
    "np.matmul(A,A_inv)\n"
   ]
  },
  {
   "cell_type": "markdown",
   "id": "01103641",
   "metadata": {},
   "source": [
    "det\n",
    "\n",
    "$ A^{-1} = \\begin{bmatrix}\n",
    "1 & 6 & 1 \\\\\n",
    "1 & 0 & 3 \\\\\n",
    "2 & 3 & 2 \n",
    "\\end{bmatrix}  $\n"
   ]
  },
  {
   "cell_type": "markdown",
   "id": "0cc7cee6",
   "metadata": {},
   "source": [
    "## Problem 2"
   ]
  },
  {
   "cell_type": "markdown",
   "id": "22ab9ef3",
   "metadata": {},
   "source": [
    "Consider a general block cipher algorithm that maps $n$ bits to $n$ bits.\n",
    "\n",
    "(a) How many different such mapping (including the identity map) exist?\n",
    "\n",
    "(b) Let $K(n)$ be your answer to part (a). Bob and Alice want to communicate privately. In order to set the mapping, they shared a long table including all possible $K(n)$ mappings and associated a number between $0$ and $K(n) − 1$ to each. Then, they wrote the corresponding number for each mapping in Binary representation. For instance, if $K(n) = 1000$, mapping number $347$ is represented by $’0101011011’$. Then, each time Bob wants to send a private message to Alice, he chooses one of these mappings and sends her its binary representation through a secure channel. How many bits does Bob have to send for each mapping?\n",
    "\n",
    "(c) Recall that we mentioned in class that $n$-to-$n$ bits mappings can be also represented by $n$ × $2n$ bits (similar to Table. 4.1 of the textbook). Is this number less or greater than what you found in part (b)? Explain the discrepancy."
   ]
  },
  {
   "cell_type": "code",
   "execution_count": null,
   "id": "e8ac0fc3",
   "metadata": {},
   "outputs": [],
   "source": []
  },
  {
   "cell_type": "markdown",
   "id": "94f424c1",
   "metadata": {},
   "source": [
    "## Problem 3"
   ]
  },
  {
   "cell_type": "markdown",
   "id": "a327fc4b",
   "metadata": {},
   "source": [
    "Consider the GF(28) generated by $q(x) = x^{8} + x^{7} + x^{2} + x + 1$. Evaluate the following quantities:\n",
    "\n",
    "(a) $\\{BC\\} + \\{2E\\}$.\n",
    "\n",
    "(b) $\\{0A\\} \\cdot \\{A3\\}$.\n",
    "\n",
    "(c) $\\{84\\}−1$"
   ]
  },
  {
   "cell_type": "code",
   "execution_count": null,
   "id": "d1343ec6",
   "metadata": {},
   "outputs": [],
   "source": []
  },
  {
   "cell_type": "markdown",
   "id": "d6af11a7",
   "metadata": {},
   "source": [
    "## Problem 4"
   ]
  },
  {
   "cell_type": "markdown",
   "id": "d3e2283e",
   "metadata": {},
   "source": [
    "Consider GF($3^{3}$) generated by $m(x) = x3 + 2x2 + 1$, and let $\\alpha$ be a root of $m(x)$. Let $a = 2\\alpha^{2} + \\alpha + 1$. We have already seen that we can find the multiplicative inverse of $a$ as follows: Let $b = b_{2}\\alpha^{2} + b_{1}\\alpha + b_{0}$ is $a^{−1}$. Then, we there should exists some $q$ such that\n",
    "\n",
    "$a \\cdot b = m(α) \\cdot q + 1.$\n",
    "\n",
    "(a) We can argue that $q$ should be of the form of $q = q_{1}\\alpha + q_{0}$. Why $q$ does not have any term of $\\alpha^{2}$?\n",
    "\n",
    "Now, to solve for (1), we can write\n",
    "\n",
    "$a \\cdot b = (2\\alpha^{2} + \\alpha + 1) \\cdot (b_{2}\\alpha^{2} + b_{1}\\alpha + b_{0}) = (2b_{2})\\alpha^{4} + (2b_{1} + b_{2})\\alpha^{3} + (2b_{0} + b_{1} + b_{0})\\alpha^{2} + (b_{1} + b_{0})\\alpha + b_{0}$\n",
    "\n",
    "$m(α) \\cdot q + 1 = q_{1}\\alpha^{4} + (2q_{1} + q_{0})\\alpha^{3} + (2q_{0})\\alpha^{2} + q_{1}\\alpha + (q_{0}) + 1.$\n",
    "\n",
    "So, we need to determine $(b_{2}, b_{1}, b_{0})$ and $(q_{1}, q_{0})$ such that\n",
    "\n",
    "$2b_{2} = q_{1}$\n",
    "\n",
    "$2b_{1} + b_{2} = 2q_{1} + q_{0}$\n",
    "\n",
    "$2b_{0} + b_{1} + b_{0} = 2q_{0}$\n",
    "\n",
    "$b_{1} + b_{0} = q_{1}$\n",
    "\n",
    "$b_{0} = q_{0} + 1.$\n",
    "\n",
    "(b) Write the equations in (2) as a linear system, i.e, $A \\cdot x = b$, where $x = [b_{0}, b_{1}, b_{2}, q_{0}, q_{1}]^{T}$ . Find $A$ and $b$.\n",
    "\n",
    "(c) Use Problem 1 to find the inverse of $A$ and solve the system for $x$. What is $b$?\n",
    "\n",
    "(d) Write a computer program that computes the multiplicative inverse in a general finite field. Consider GF($p^{k}$) generated by $m(x) = m_{k}x^{k} + · · · + m_{1}x + m_{0}$ which is represented as $M = [m_{k}, m_{k−1}, . . . , m_{1}, m_{0}]$. For a value $a = a_{k−1}\\alpha^{k−1} + · · · + a_{1}\\alpha + a_{0}$, which is represented as $A = [a_{k−1}, . . . , a_{1}, a_{0}]$, compute $b = b_{k−1}\\alpha^{k−1} + · · · + b_{1}\\alpha + b_{0}$ such that $a \\cdot b = 1$ and return $B = [b_{k−1}, . . . , b_{1}, b_{0}]$.\n"
   ]
  },
  {
   "cell_type": "code",
   "execution_count": null,
   "id": "d7b05911",
   "metadata": {},
   "outputs": [],
   "source": []
  },
  {
   "cell_type": "markdown",
   "id": "56278cd9",
   "metadata": {},
   "source": [
    "## Problem 5"
   ]
  },
  {
   "cell_type": "markdown",
   "id": "9ccd902c",
   "metadata": {},
   "source": [
    "Recall the S-box used in the Advanced Encryption Standard (AES). It maps a pair $\\{xy\\}$ to $\\{x^{′}y^{′}\\}$ = $S(\\{xy\\})$ according to the following steps:\n",
    "\n",
    "• You first find {uv} = {xy}−1.\n",
    "\n",
    "• Write {uv} in binary {uv} = [b7, . . . , b0].\n",
    "\n",
    "• Compute\n",
    "\n",
    "$ \\begin{bmatrix}\n",
    "b_{0}^{'} \\\\\n",
    "b_{1}^{'} \\\\\n",
    "b_{2}^{'} \\\\\n",
    "b_{3}^{'} \\\\\n",
    "b_{4}^{'} \\\\\n",
    "b_{0}^{'} \\\\\n",
    "b_{0}^{'} \\\\\n",
    "b_{0}^{'} \\\\\n",
    "\\end{bmatrix} = \\begin{bmatrix}\n",
    "1 & 0 & 0 & 0 & 1 & 1 & 1 & 1 \\\\\n",
    "1 & 1 & 0 & 0 & 0 & 1 & 1 & 1 \\\\\n",
    "1 & 1 & 1 & 0 & 0 & 0 & 1 & 1 \\\\\n",
    "1 & 1 & 1 & 1 & 0 & 0 & 0 & 1 \\\\\n",
    "1 & 1 & 1 & 1 & 1 & 0 & 0 & 0 \\\\\n",
    "0 & 1 & 1 & 1 & 1 & 1 & 0 & 0 \\\\\n",
    "0 & 0 & 1 & 1 & 1 & 1 & 1 & 0 \\\\\n",
    "0 & 0 & 0 & 1 & 1 & 1 & 1 & 1 \n",
    "\\end{bmatrix} \\cdot\n",
    "\\begin{bmatrix}\n",
    "b_{0} \\\\\n",
    "b_{1} \\\\\n",
    "b_{2} \\\\\n",
    "b_{3} \\\\\n",
    "b_{4} \\\\\n",
    "b_{5} \\\\\n",
    "b_{6} \\\\\n",
    "b_{7} \n",
    "\\end{bmatrix} +\n",
    "\\begin{bmatrix}\n",
    "1 \\\\\n",
    "1 \\\\\n",
    "0 \\\\\n",
    "0 \\\\\n",
    "0 \\\\\n",
    "1 \\\\\n",
    "1 \\\\\n",
    "0 \n",
    "\\end{bmatrix}$ (mod 2)\n",
    "\n",
    "• Compute $\\{x^{′}y^{′}\\} = [b^{′}_{7}, . . . , b^{′}_{0}]$.\n",
    "\n",
    "Write a computer program to generate the S-box. It should take $\\{xy\\}$ and return $\\{x^{′}y^{′}\\}$."
   ]
  },
  {
   "cell_type": "code",
   "execution_count": null,
   "id": "89b389ef",
   "metadata": {},
   "outputs": [],
   "source": []
  }
 ],
 "metadata": {
  "kernelspec": {
   "display_name": "Python 3",
   "language": "python",
   "name": "python3"
  },
  "language_info": {
   "codemirror_mode": {
    "name": "ipython",
    "version": 3
   },
   "file_extension": ".py",
   "mimetype": "text/x-python",
   "name": "python",
   "nbconvert_exporter": "python",
   "pygments_lexer": "ipython3",
   "version": "3.11.1"
  }
 },
 "nbformat": 4,
 "nbformat_minor": 5
}
