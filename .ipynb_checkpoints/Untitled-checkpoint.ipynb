{
 "cells": [
  {
   "cell_type": "code",
   "execution_count": 3,
   "metadata": {},
   "outputs": [],
   "source": [
    "import sympy as sp\n",
    "import numpy as np\n",
    "import galois as gf"
   ]
  },
  {
   "cell_type": "markdown",
   "id": "0c3de426",
   "metadata": {},
   "source": [
    "# Homework 1"
   ]
  },
  {
   "cell_type": "markdown",
   "id": "7b6e5309",
   "metadata": {},
   "source": []
  },
  {
   "cell_type": "markdown",
   "id": "74fd1758",
   "metadata": {},
   "source": [
    "## Problem 1\n",
    "\n",
    "In a finite field GF(p), we can divide a polynomial $a(x)$ by another polynomial $b(x)$ to obtain a quotient $q(x)$ and\n",
    "a reminder $r(x)$ that satisfy:\n",
    "\n",
    "(i) $a(x) \\stackrel{p}{≡} b(x).q(x) + r(x),$\n",
    "\n",
    "(ii) $deg(r(x)) < deg(b(x)).$\n",
    "\n",
    "Here is an example of how it works. Let $a(x) = x^{3} + x + 2,$ $b(x) = 2x + 1$ and $p = 3.$ Note that for a polynomial m(x), we denote the coefficient of $x^{k}$ by $m_{k}.$ For instance, we have ($b_{1}, b_{0}$) = (2, 1):\n",
    "- Set $q(x) = 0;$\n",
    "- Find the multiplicative inverse of $b_{1}$ in GF(3), i.e., $2^{−1}$ $\\stackrel{3}{≡} 2$.\n",
    "- Find the difference between the degree of $a(x)$ and $b(x),$ which is $d = 3 − 1 = 2.$\n",
    "- Set s(x) = $b^{−1}_{1} ∗ a(3) ∗ x^{d} = 2x^{2}$ and update $q(x) ← q(x) + s(x) = 2x^{2}$.\n",
    "- Update $a(x) ← a(x) − b(x) · s(x) = x^{3} + x + 2 − 4x^{3} − 2x^{2} \\stackrel{3}{≡} x^{2} + x + 2.$\n",
    "- Find the difference between the degree of $a(x)$ and $b(x)$, which is $d = 2 − 1 = 1.$\n",
    "- Set $s(x) = b^{−1}_{1} ∗ a(2) ∗ x^{d} = 2x$ and update $q(x) ← q(x) + s(x) = 2x^{2} + 2x.$\n",
    "- Update $a(x) ← a(x) − b(x) · s(x) = (x^{2} + x + 2) − 4x^{2} − 2x \\stackrel{3}{≡} 2x + 2.$\n",
    "- Find the difference between the degree of $a(x)$ and $b(x),$ which is $d = 1 − 1 = 0.$\n",
    "- Set $s(x) = b^{−1}_{1} ∗ a(1) ∗ x^{d} = 1$ and update $q(x) ← q(x) + s(x) = 2x^{2} + 2x + 1.$\n",
    "- Update $a(x) ← a(x) − b(x) · s(x) = (2x + 2) − 2x − 1 \\stackrel{3}{≡} 1.$\n",
    "- Set $r(x) = a(x) = 1,$ since $deg(a(x)) < deg(b(x)).$\n",
    "\n",
    "Therefore, at the end, we get $q(x) = 2x^{2} + 2x + 1$ and $r(x) = 1.$\n",
    "\n",
    "(a) Write a code that takes two polynomials $a(x)$ and $b(x),$ together with a prime number $p$ and returns $q(x)$ and $r(x).$ Note that polynomial $m(x) = m_{k}x^{k} + m_{k−1}x^{k−1} + · · · + m_{1}x + m_{0}$ can be represented in the form of the vector of coefficients, i.e., $[m_{k}, m_{k−1}, . . . , m_{2}, m_{1}, m_{0}].$\n",
    "\n",
    "(b) Let $a(x) = 5x^{8} + 3x^{3} + 2x^{2} + 4$ and $b(x) = 4x^{3} + x^{2} + 6.$ Compute $q(x)$ and $r(x)$ in GF(7) using your code.\n",
    "\n"
   ]
  },
  {
   "cell_type": "markdown",
   "id": "af998212",
   "metadata": {},
   "source": []
  }
 ],
 "metadata": {
  "kernelspec": {
   "display_name": "Python 3",
   "language": "python",
   "name": "python3"
  },
  "language_info": {
   "codemirror_mode": {
    "name": "ipython",
    "version": 3
   },
   "file_extension": ".py",
   "mimetype": "text/x-python",
   "name": "python",
   "nbconvert_exporter": "python",
   "pygments_lexer": "ipython3",
   "version": "3.11.1"
  }
 },
 "nbformat": 4,
 "nbformat_minor": 5
}
