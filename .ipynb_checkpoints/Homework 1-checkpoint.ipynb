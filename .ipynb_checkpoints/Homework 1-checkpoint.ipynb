{
 "cells": [
  {
   "cell_type": "code",
   "execution_count": 90,
   "id": "8fc4e366-0b1c-4827-91d2-7a4b017a7525",
   "metadata": {},
   "outputs": [],
   "source": [
    "import sympy as sp\n",
    "import numpy as np\n",
    "import galois as gf\n",
    "\n",
    "np.set_printoptions(legacy='1.25')"
   ]
  },
  {
   "cell_type": "markdown",
   "id": "466f5140",
   "metadata": {},
   "source": [
    "# Homework 1"
   ]
  },
  {
   "cell_type": "markdown",
   "id": "6d9b4ece",
   "metadata": {},
   "source": [
    "## Problem 1\n",
    "\n",
    "In a finite field GF(p), we can divide a polynomial $a(x)$ by another polynomial $b(x)$ to obtain a quotient $q(x)$ and\n",
    "a reminder $r(x)$ that satisfy:\n",
    "\n",
    "(i) $a(x) \\stackrel{p}{≡} b(x).q(x) + r(x),$\n",
    "\n",
    "(ii) $deg(r(x)) < deg(b(x)).$\n",
    "\n",
    "Here is an example of how it works. Let $a(x) = x^{3} + x + 2,$ $b(x) = 2x + 1$ and $p = 3.$ Note that for a polynomial m(x), we denote the coefficient of $x^{k}$ by $m_{k}.$ For instance, we have ($b_{1}, b_{0}$) = (2, 1):\n",
    "- Set $q(x) = 0;$\n",
    "- Find the multiplicative inverse of $b_{1}$ in GF(3), i.e., $2^{−1}$ $\\stackrel{3}{≡} 2$.\n",
    "- Find the difference between the degree of $a(x)$ and $b(x),$ which is $d = 3 − 1 = 2.$\n",
    "- Set s(x) = $b^{−1}_{1} ∗ a(3) ∗ x^{d} = 2x^{2}$ and update $q(x) ← q(x) + s(x) = 2x^{2}$.\n",
    "- Update $a(x) ← a(x) − b(x) · s(x) = x^{3} + x + 2 − 4x^{3} − 2x^{2} \\stackrel{3}{≡} x^{2} + x + 2.$\n",
    "- Find the difference between the degree of $a(x)$ and $b(x)$, which is $d = 2 − 1 = 1.$\n",
    "- Set $s(x) = b^{−1}_{1} ∗ a(2) ∗ x^{d} = 2x$ and update $q(x) ← q(x) + s(x) = 2x^{2} + 2x.$\n",
    "- Update $a(x) ← a(x) − b(x) · s(x) = (x^{2} + x + 2) − 4x^{2} − 2x \\stackrel{3}{≡} 2x + 2.$\n",
    "- Find the difference between the degree of $a(x)$ and $b(x),$ which is $d = 1 − 1 = 0.$\n",
    "- Set $s(x) = b^{−1}_{1} ∗ a(1) ∗ x^{d} = 1$ and update $q(x) ← q(x) + s(x) = 2x^{2} + 2x + 1.$\n",
    "- Update $a(x) ← a(x) − b(x) · s(x) = (2x + 2) − 2x − 1 \\stackrel{3}{≡} 1.$\n",
    "- Set $r(x) = a(x) = 1,$ since $deg(a(x)) < deg(b(x)).$\n",
    "\n",
    "Therefore, at the end, we get $q(x) = 2x^{2} + 2x + 1$ and $r(x) = 1.$\n",
    "\n",
    "(a) Write a code that takes two polynomials $a(x)$ and $b(x),$ together with a prime number $p$ and returns $q(x)$ and $r(x).$ Note that polynomial $m(x) = m_{k}x^{k} + m_{k−1}x^{k−1} + · · · + m_{1}x + m_{0}$ can be represented in the form of the vector of coefficients, i.e., $[m_{k}, m_{k−1}, . . . , m_{2}, m_{1}, m_{0}].$\n",
    "\n",
    "(b) Let $a(x) = 5x^{8} + 3x^{3} + 2x^{2} + 4$ and $b(x) = 4x^{3} + x^{2} + 6.$ Compute $q(x)$ and $r(x)$ in GF(7) using your code.\n",
    "\n"
   ]
  },
  {
   "cell_type": "markdown",
   "id": "8979d73e",
   "metadata": {},
   "source": []
  },
  {
   "cell_type": "code",
   "execution_count": 100,
   "id": "3de077b8",
   "metadata": {},
   "outputs": [],
   "source": [
    "\n",
    "# Calculate a polynomial\n",
    "def calc_polynomial(poly_a, input) :\n",
    "    degree_a = len(poly_a)-1\n",
    "    i=degree_a\n",
    "    output = 0\n",
    "    while i>=0 :\n",
    "        output = poly_a[degree_a-i]*input**i + output\n",
    "        i-=1\n",
    "    return output\n",
    "\n",
    "\n",
    "#Input:\n",
    "#a: Vector of coefficients of a polynomial starting at the highest degree. e.g. a(x) 3x^2 + 1 --> poly_a=[3 0 1]\n",
    "#b: Polynomial to divide into a(x), same format as a.\n",
    "#GF: Galois Field order, e.g. GF(p) --> GF=p, where p must be prime.\n",
    "def divide_in_GF(poly_a, poly_b, GF):\n",
    "    degree_a = len(poly_a)-1 # Get degree of each polynomial\n",
    "    print(f\"degree a(x): {degree_a}\")\n",
    "    degree_b = len(poly_b)-1\n",
    "    print(f\"degree b(x): {degree_b}\")\n",
    "    poly_q = 0\n",
    "    \n",
    "    #Calculate degree difference between a(x) and b(x)\n",
    "    if degree_a > degree_b :\n",
    "        degree_diff = degree_a - degree_b\n",
    "        print(f\"degree difference: {degree_a} - {degree_b} = {degree_diff}\")\n",
    "    else :\n",
    "        print(\"ERROR: degree of a < degree of b !\")\n",
    "        return 0\n",
    "\n",
    "    bk_inverse = np.mod((poly_b[0] - GF),GF) # find inverse of highest power of b\n",
    "    print(f\"b{degree_b} = {bk_inverse}\")\n",
    "\n",
    "    i = degree_a\n",
    "    s_poly = [0] * degree_diff #Create an empty matrix of n=degree_diff elements \n",
    "    print(s_poly)\n",
    "    while i>=0 :\n",
    "        s_poly[degree_diff-len(s_poly)-1] = np.mod((bk_inverse*(calc_polynomial(poly_a,i))),GF)\n",
    "        print(f's(x) = {s_poly}')\n",
    " \n",
    "        #TODO: Calculate a(x) = b(x)*s(x)\n",
    "\n",
    "        i-=1\n",
    "\n",
    "    return 0\n",
    "    "
   ]
  },
  {
   "cell_type": "code",
   "execution_count": 101,
   "id": "09facf2c",
   "metadata": {},
   "outputs": [
    {
     "name": "stdout",
     "output_type": "stream",
     "text": [
      "degree a(x): 3\n",
      "degree b(x): 1\n",
      "degree difference: 3 - 1 = 2\n",
      "b1 = 2\n",
      "[0, 0]\n",
      "s(x) = [0, 1]\n",
      "s(x) = [0, 0]\n",
      "s(x) = [0, 2]\n",
      "s(x) = [0, 1]\n"
     ]
    },
    {
     "data": {
      "text/plain": [
       "0"
      ]
     },
     "execution_count": 101,
     "metadata": {},
     "output_type": "execute_result"
    }
   ],
   "source": [
    "a = [1, 0, 1, 2]\n",
    "b = [2, 1]\n",
    "GF = 3\n",
    "\n",
    "divide_in_GF(a,b,GF)"
   ]
  },
  {
   "cell_type": "code",
   "execution_count": 17,
   "id": "98aa2a03",
   "metadata": {},
   "outputs": [
    {
     "name": "stdout",
     "output_type": "stream",
     "text": [
      "b3 = 1\n"
     ]
    }
   ],
   "source": [
    "a = [5, 0, 0, 0, 0, 3, 2, 0, 4]\n",
    "b = [4, 1, 0, 6]\n",
    "GF = 7\n",
    "\n",
    "divide_in_GF(a,b,3)"
   ]
  }
 ],
 "metadata": {
  "kernelspec": {
   "display_name": "Python 3 (ipykernel)",
   "language": "python",
   "name": "python3"
  },
  "language_info": {
   "codemirror_mode": {
    "name": "ipython",
    "version": 3
   },
   "file_extension": ".py",
   "mimetype": "text/x-python",
   "name": "python",
   "nbconvert_exporter": "python",
   "pygments_lexer": "ipython3",
   "version": "3.11.1"
  }
 },
 "nbformat": 4,
 "nbformat_minor": 5
}
